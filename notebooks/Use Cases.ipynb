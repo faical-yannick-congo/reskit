{
 "cells": [
  {
   "cell_type": "markdown",
   "metadata": {},
   "source": [
    "# Two datasets"
   ]
  },
  {
   "cell_type": "code",
   "execution_count": null,
   "metadata": {
    "collapsed": true
   },
   "outputs": [],
   "source": [
    "from sklearn.datasets import make_classification\n",
    "\n",
    "\n",
    "def get_dataset1(here_can_be_path_to_file):\n",
    "        X, y = make_classification(n_informative=10)\n",
    "        return { 'X' : X, 'y' : y }\n",
    "\n",
    "def get_dataset2(here_can_be_path_to_file):\n",
    "        X, y = make_classification(n_informative=15)\n",
    "        return { 'X' : X, 'y' : y }"
   ]
  },
  {
   "cell_type": "code",
   "execution_count": null,
   "metadata": {
    "collapsed": true
   },
   "outputs": [],
   "source": [
    "from reskit.core import Transformer\n",
    "\n",
    "\n",
    "datasets = [\n",
    "        ('dataset1', Transformer(get_dataset1, collect=['X'])),\n",
    "        ('dataset2', Transformer(get_dataset2, collect=['X']))\n",
    "]"
   ]
  }
 ],
 "metadata": {
  "kernelspec": {
   "display_name": "Python 3",
   "language": "python",
   "name": "python3"
  },
  "language_info": {
   "codemirror_mode": {
    "name": "ipython",
    "version": 3
   },
   "file_extension": ".py",
   "mimetype": "text/x-python",
   "name": "python",
   "nbconvert_exporter": "python",
   "pygments_lexer": "ipython3",
   "version": "3.6.0"
  }
 },
 "nbformat": 4,
 "nbformat_minor": 2
}
