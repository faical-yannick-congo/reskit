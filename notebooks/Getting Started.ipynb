{
 "cells": [
  {
   "cell_type": "markdown",
   "metadata": {},
   "source": [
    "Let's say we want to prepare data and try some scalers and classifiers for prediction in a classification problem. We will tune paramaters of classifiers by grid search technique."
   ]
  },
  {
   "cell_type": "markdown",
   "metadata": {},
   "source": [
    "Data preparing:"
   ]
  },
  {
   "cell_type": "code",
   "execution_count": 3,
   "metadata": {
    "collapsed": true
   },
   "outputs": [],
   "source": [
    "from sklearn.datasets import make_classification\n",
    "\n",
    "\n",
    "X, y = make_classification()\n",
    "data = {'X': X, 'y': y}"
   ]
  },
  {
   "cell_type": "markdown",
   "metadata": {},
   "source": [
    "Setting steps for our pipelines and parameters for grid search:"
   ]
  },
  {
   "cell_type": "code",
   "execution_count": 7,
   "metadata": {
    "collapsed": false,
    "deletable": true,
    "editable": true
   },
   "outputs": [],
   "source": [
    "from reskit.core import Pipeliner\n",
    "\n",
    "\n",
    "from sklearn.preprocessing import StandardScaler\n",
    "from sklearn.preprocessing import MinMaxScaler\n",
    "\n",
    "from sklearn.linear_model import LogisticRegression\n",
    "from sklearn.svm import SVC\n",
    "\n",
    "\n",
    "classifiers = [('LR', LogisticRegression()),\n",
    "               ('SVC', SVC())]\n",
    "\n",
    "scalers = [('standard', StandardScaler()),\n",
    "           ('minmax', MinMaxScaler())]\n",
    "\n",
    "steps = [('scaler', scalers),\n",
    "         ('classifier', classifiers)]\n",
    "\n",
    "param_grid = {'LR': {'penalty': ['l1', 'l2']},\n",
    "              'SVC': {'kernel': ['linear', 'poly', 'rbf', 'sigmoid']}}"
   ]
  },
  {
   "cell_type": "markdown",
   "metadata": {},
   "source": [
    "Creating a plan of our research:"
   ]
  },
  {
   "cell_type": "code",
   "execution_count": 5,
   "metadata": {
    "collapsed": false,
    "scrolled": true
   },
   "outputs": [
    {
     "data": {
      "text/html": [
       "<div>\n",
       "<table border=\"1\" class=\"dataframe\">\n",
       "  <thead>\n",
       "    <tr style=\"text-align: right;\">\n",
       "      <th></th>\n",
       "      <th>scaler</th>\n",
       "      <th>classifier</th>\n",
       "    </tr>\n",
       "  </thead>\n",
       "  <tbody>\n",
       "    <tr>\n",
       "      <th>0</th>\n",
       "      <td>standard</td>\n",
       "      <td>LR</td>\n",
       "    </tr>\n",
       "    <tr>\n",
       "      <th>1</th>\n",
       "      <td>standard</td>\n",
       "      <td>SVC</td>\n",
       "    </tr>\n",
       "    <tr>\n",
       "      <th>2</th>\n",
       "      <td>minmax</td>\n",
       "      <td>LR</td>\n",
       "    </tr>\n",
       "    <tr>\n",
       "      <th>3</th>\n",
       "      <td>minmax</td>\n",
       "      <td>SVC</td>\n",
       "    </tr>\n",
       "  </tbody>\n",
       "</table>\n",
       "</div>"
      ],
      "text/plain": [
       "     scaler classifier\n",
       "0  standard         LR\n",
       "1  standard        SVC\n",
       "2    minmax         LR\n",
       "3    minmax        SVC"
      ]
     },
     "execution_count": 5,
     "metadata": {},
     "output_type": "execute_result"
    }
   ],
   "source": [
    "pipe = Pipeliner(steps, param_grid=param_grid)\n",
    "pipe.plan_table"
   ]
  },
  {
   "cell_type": "markdown",
   "metadata": {},
   "source": [
    "To tune parameters of models and evaluate this models, run:"
   ]
  },
  {
   "cell_type": "code",
   "execution_count": 6,
   "metadata": {
    "collapsed": false
   },
   "outputs": [
    {
     "name": "stdout",
     "output_type": "stream",
     "text": [
      "Line: 1/4\n",
      "Line: 2/4\n",
      "Line: 3/4\n",
      "Line: 4/4\n"
     ]
    },
    {
     "data": {
      "text/html": [
       "<div>\n",
       "<table border=\"1\" class=\"dataframe\">\n",
       "  <thead>\n",
       "    <tr style=\"text-align: right;\">\n",
       "      <th></th>\n",
       "      <th>scaler</th>\n",
       "      <th>classifier</th>\n",
       "      <th>grid_roc_auc_mean</th>\n",
       "      <th>grid_roc_auc_std</th>\n",
       "      <th>grid_roc_auc_best_params</th>\n",
       "      <th>eval_roc_auc_mean</th>\n",
       "      <th>eval_roc_auc_std</th>\n",
       "      <th>eval_roc_auc_scores</th>\n",
       "    </tr>\n",
       "  </thead>\n",
       "  <tbody>\n",
       "    <tr>\n",
       "      <th>0</th>\n",
       "      <td>standard</td>\n",
       "      <td>LR</td>\n",
       "      <td>0.925221</td>\n",
       "      <td>0.031322</td>\n",
       "      <td>{'penalty': 'l1'}</td>\n",
       "      <td>0.924772</td>\n",
       "      <td>0.0311752</td>\n",
       "      <td>[ 0.96885813  0.90311419  0.90234375]</td>\n",
       "    </tr>\n",
       "    <tr>\n",
       "      <th>1</th>\n",
       "      <td>standard</td>\n",
       "      <td>SVC</td>\n",
       "      <td>0.946912</td>\n",
       "      <td>0.0131217</td>\n",
       "      <td>{'kernel': 'rbf'}</td>\n",
       "      <td>0.946574</td>\n",
       "      <td>0.0132101</td>\n",
       "      <td>[ 0.96193772  0.94809689  0.9296875 ]</td>\n",
       "    </tr>\n",
       "    <tr>\n",
       "      <th>2</th>\n",
       "      <td>minmax</td>\n",
       "      <td>LR</td>\n",
       "      <td>0.943824</td>\n",
       "      <td>0.0362333</td>\n",
       "      <td>{'penalty': 'l1'}</td>\n",
       "      <td>0.944006</td>\n",
       "      <td>0.0358994</td>\n",
       "      <td>[ 0.98269896  0.89619377  0.953125  ]</td>\n",
       "    </tr>\n",
       "    <tr>\n",
       "      <th>3</th>\n",
       "      <td>minmax</td>\n",
       "      <td>SVC</td>\n",
       "      <td>0.930074</td>\n",
       "      <td>0.02539</td>\n",
       "      <td>{'kernel': 'rbf'}</td>\n",
       "      <td>0.929683</td>\n",
       "      <td>0.025291</td>\n",
       "      <td>[ 0.96539792  0.91349481  0.91015625]</td>\n",
       "    </tr>\n",
       "  </tbody>\n",
       "</table>\n",
       "</div>"
      ],
      "text/plain": [
       "     scaler classifier grid_roc_auc_mean grid_roc_auc_std  \\\n",
       "0  standard         LR          0.925221         0.031322   \n",
       "1  standard        SVC          0.946912        0.0131217   \n",
       "2    minmax         LR          0.943824        0.0362333   \n",
       "3    minmax        SVC          0.930074          0.02539   \n",
       "\n",
       "  grid_roc_auc_best_params eval_roc_auc_mean eval_roc_auc_std  \\\n",
       "0        {'penalty': 'l1'}          0.924772        0.0311752   \n",
       "1        {'kernel': 'rbf'}          0.946574        0.0132101   \n",
       "2        {'penalty': 'l1'}          0.944006        0.0358994   \n",
       "3        {'kernel': 'rbf'}          0.929683         0.025291   \n",
       "\n",
       "                     eval_roc_auc_scores  \n",
       "0  [ 0.96885813  0.90311419  0.90234375]  \n",
       "1  [ 0.96193772  0.94809689  0.9296875 ]  \n",
       "2  [ 0.98269896  0.89619377  0.953125  ]  \n",
       "3  [ 0.96539792  0.91349481  0.91015625]  "
      ]
     },
     "execution_count": 6,
     "metadata": {},
     "output_type": "execute_result"
    }
   ],
   "source": [
    "pipe.get_results(data=data, scoring=['roc_auc'])"
   ]
  }
 ],
 "metadata": {
  "kernelspec": {
   "display_name": "Python 3",
   "language": "python",
   "name": "python3"
  },
  "language_info": {
   "codemirror_mode": {
    "name": "ipython",
    "version": 3
   },
   "file_extension": ".py",
   "mimetype": "text/x-python",
   "name": "python",
   "nbconvert_exporter": "python",
   "pygments_lexer": "ipython3",
   "version": "3.6.0"
  }
 },
 "nbformat": 4,
 "nbformat_minor": 2
}
