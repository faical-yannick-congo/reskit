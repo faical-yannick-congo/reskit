{
 "cells": [
  {
   "cell_type": "code",
   "execution_count": 1,
   "metadata": {
    "collapsed": true
   },
   "outputs": [],
   "source": [
    "from sklearn.datasets import make_classification\n",
    "\n",
    "\n",
    "X, y = make_classification()\n",
    "data = {'X': X, 'y': y}"
   ]
  },
  {
   "cell_type": "code",
   "execution_count": 2,
   "metadata": {
    "collapsed": true
   },
   "outputs": [],
   "source": [
    "from sklearn.preprocessing import StandardScaler\n",
    "from sklearn.preprocessing import MinMaxScaler\n",
    "\n",
    "\n",
    "scalers = [\n",
    "        ('minmax', MinMaxScaler()),\n",
    "        ('standard', StandardScaler())\n",
    "]"
   ]
  },
  {
   "cell_type": "code",
   "execution_count": 3,
   "metadata": {
    "collapsed": true
   },
   "outputs": [],
   "source": [
    "from sklearn.linear_model import LogisticRegression\n",
    "from sklearn.svm import SVC\n",
    "\n",
    "\n",
    "classifiers = [\n",
    "        ('LR', LogisticRegression()),\n",
    "        ('SVC', SVC())\n",
    "]"
   ]
  },
  {
   "cell_type": "code",
   "execution_count": 4,
   "metadata": {
    "collapsed": true
   },
   "outputs": [],
   "source": [
    "steps = [\n",
    "        ('Scaler', scalers),\n",
    "        ('Classifier', classifiers)\n",
    "]"
   ]
  },
  {
   "cell_type": "code",
   "execution_count": 6,
   "metadata": {
    "collapsed": true
   },
   "outputs": [],
   "source": [
    "param_grid = {\n",
    "        'LR' : {\n",
    "                'penalty' : ['l1', 'l2']\n",
    "        },\n",
    "        'SVC' : {\n",
    "                'kernel' : ['linear', 'poly', 'rbf', 'sigmoid']\n",
    "        }\n",
    "}"
   ]
  },
  {
   "cell_type": "code",
   "execution_count": 7,
   "metadata": {
    "collapsed": false
   },
   "outputs": [
    {
     "data": {
      "text/html": [
       "<div>\n",
       "<table border=\"1\" class=\"dataframe\">\n",
       "  <thead>\n",
       "    <tr style=\"text-align: right;\">\n",
       "      <th></th>\n",
       "      <th>Scaler</th>\n",
       "      <th>Classifier</th>\n",
       "    </tr>\n",
       "  </thead>\n",
       "  <tbody>\n",
       "    <tr>\n",
       "      <th>0</th>\n",
       "      <td>minmax</td>\n",
       "      <td>LR</td>\n",
       "    </tr>\n",
       "    <tr>\n",
       "      <th>1</th>\n",
       "      <td>minmax</td>\n",
       "      <td>SVC</td>\n",
       "    </tr>\n",
       "    <tr>\n",
       "      <th>2</th>\n",
       "      <td>standard</td>\n",
       "      <td>LR</td>\n",
       "    </tr>\n",
       "    <tr>\n",
       "      <th>3</th>\n",
       "      <td>standard</td>\n",
       "      <td>SVC</td>\n",
       "    </tr>\n",
       "  </tbody>\n",
       "</table>\n",
       "</div>"
      ],
      "text/plain": [
       "     Scaler Classifier\n",
       "0    minmax         LR\n",
       "1    minmax        SVC\n",
       "2  standard         LR\n",
       "3  standard        SVC"
      ]
     },
     "execution_count": 7,
     "metadata": {},
     "output_type": "execute_result"
    }
   ],
   "source": [
    "from reskit.core import Pipeliner\n",
    "\n",
    "\n",
    "pipe = Pipeliner(steps, param_grid=param_grid)\n",
    "pipe.plan_table"
   ]
  },
  {
   "cell_type": "code",
   "execution_count": 8,
   "metadata": {
    "collapsed": false,
    "scrolled": false
   },
   "outputs": [
    {
     "name": "stdout",
     "output_type": "stream",
     "text": [
      "Removed previous results file -- results.csv.\n",
      "Line: 1/4\n",
      "Line: 2/4\n",
      "Line: 3/4\n",
      "Line: 4/4\n"
     ]
    },
    {
     "data": {
      "text/html": [
       "<div>\n",
       "<table border=\"1\" class=\"dataframe\">\n",
       "  <thead>\n",
       "    <tr style=\"text-align: right;\">\n",
       "      <th></th>\n",
       "      <th>Scaler</th>\n",
       "      <th>Classifier</th>\n",
       "      <th>grid_roc_auc_mean</th>\n",
       "      <th>grid_roc_auc_std</th>\n",
       "      <th>grid_roc_auc_best_params</th>\n",
       "      <th>eval_roc_auc_mean</th>\n",
       "      <th>eval_roc_auc_std</th>\n",
       "      <th>eval_roc_auc_scores</th>\n",
       "    </tr>\n",
       "  </thead>\n",
       "  <tbody>\n",
       "    <tr>\n",
       "      <th>0</th>\n",
       "      <td>minmax</td>\n",
       "      <td>LR</td>\n",
       "      <td>0.951287</td>\n",
       "      <td>0.0396531</td>\n",
       "      <td>{'penalty': 'l1'}</td>\n",
       "      <td>0.951773</td>\n",
       "      <td>0.0395547</td>\n",
       "      <td>[ 0.90311419  1.          0.95220588]</td>\n",
       "    </tr>\n",
       "    <tr>\n",
       "      <th>1</th>\n",
       "      <td>minmax</td>\n",
       "      <td>SVC</td>\n",
       "      <td>0.952353</td>\n",
       "      <td>0.0348773</td>\n",
       "      <td>{'kernel': 'rbf'}</td>\n",
       "      <td>0.95271</td>\n",
       "      <td>0.0348702</td>\n",
       "      <td>[ 0.91695502  1.          0.94117647]</td>\n",
       "    </tr>\n",
       "    <tr>\n",
       "      <th>2</th>\n",
       "      <td>standard</td>\n",
       "      <td>LR</td>\n",
       "      <td>0.938235</td>\n",
       "      <td>0.0510175</td>\n",
       "      <td>{'penalty': 'l1'}</td>\n",
       "      <td>0.93887</td>\n",
       "      <td>0.0508806</td>\n",
       "      <td>[ 0.87543253  1.          0.94117647]</td>\n",
       "    </tr>\n",
       "    <tr>\n",
       "      <th>3</th>\n",
       "      <td>standard</td>\n",
       "      <td>SVC</td>\n",
       "      <td>0.952574</td>\n",
       "      <td>0.0421928</td>\n",
       "      <td>{'kernel': 'rbf'}</td>\n",
       "      <td>0.953143</td>\n",
       "      <td>0.0420212</td>\n",
       "      <td>[ 0.89619377  0.99632353  0.96691176]</td>\n",
       "    </tr>\n",
       "  </tbody>\n",
       "</table>\n",
       "</div>"
      ],
      "text/plain": [
       "     Scaler Classifier grid_roc_auc_mean grid_roc_auc_std  \\\n",
       "0    minmax         LR          0.951287        0.0396531   \n",
       "1    minmax        SVC          0.952353        0.0348773   \n",
       "2  standard         LR          0.938235        0.0510175   \n",
       "3  standard        SVC          0.952574        0.0421928   \n",
       "\n",
       "  grid_roc_auc_best_params eval_roc_auc_mean eval_roc_auc_std  \\\n",
       "0        {'penalty': 'l1'}          0.951773        0.0395547   \n",
       "1        {'kernel': 'rbf'}           0.95271        0.0348702   \n",
       "2        {'penalty': 'l1'}           0.93887        0.0508806   \n",
       "3        {'kernel': 'rbf'}          0.953143        0.0420212   \n",
       "\n",
       "                     eval_roc_auc_scores  \n",
       "0  [ 0.90311419  1.          0.95220588]  \n",
       "1  [ 0.91695502  1.          0.94117647]  \n",
       "2  [ 0.87543253  1.          0.94117647]  \n",
       "3  [ 0.89619377  0.99632353  0.96691176]  "
      ]
     },
     "execution_count": 8,
     "metadata": {},
     "output_type": "execute_result"
    }
   ],
   "source": [
    "pipe.get_results(data=data, scoring=['roc_auc'])"
   ]
  }
 ],
 "metadata": {
  "kernelspec": {
   "display_name": "Python 3",
   "language": "python",
   "name": "python3"
  },
  "language_info": {
   "codemirror_mode": {
    "name": "ipython",
    "version": 3
   },
   "file_extension": ".py",
   "mimetype": "text/x-python",
   "name": "python",
   "nbconvert_exporter": "python",
   "pygments_lexer": "ipython3",
   "version": "3.6.0"
  }
 },
 "nbformat": 4,
 "nbformat_minor": 2
}
