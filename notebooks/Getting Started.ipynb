{
 "cells": [
  {
   "cell_type": "code",
   "execution_count": 1,
   "metadata": {
    "collapsed": true
   },
   "outputs": [],
   "source": [
    "from sklearn.datasets import make_classification\n",
    "\n",
    "\n",
    "X, y = make_classification()\n",
    "data = {'X': X, 'y': y}"
   ]
  },
  {
   "cell_type": "code",
   "execution_count": 2,
   "metadata": {
    "collapsed": true
   },
   "outputs": [],
   "source": [
    "from sklearn.preprocessing import StandardScaler\n",
    "from sklearn.preprocessing import MinMaxScaler\n",
    "\n",
    "\n",
    "scalers = [\n",
    "        ('minmax', MinMaxScaler()),\n",
    "        ('standard', StandardScaler())\n",
    "]"
   ]
  },
  {
   "cell_type": "code",
   "execution_count": 3,
   "metadata": {
    "collapsed": true
   },
   "outputs": [],
   "source": [
    "from sklearn.linear_model import LogisticRegression\n",
    "from sklearn.svm import SVC\n",
    "\n",
    "\n",
    "classifiers = [\n",
    "        ('LR', LogisticRegression()),\n",
    "        ('SVC', SVC())\n",
    "]"
   ]
  },
  {
   "cell_type": "code",
   "execution_count": 4,
   "metadata": {
    "collapsed": true
   },
   "outputs": [],
   "source": [
    "steps = [\n",
    "        ('Scaler', scalers),\n",
    "        ('Classifier', classifiers)\n",
    "]"
   ]
  },
  {
   "cell_type": "code",
   "execution_count": 5,
   "metadata": {
    "collapsed": true
   },
   "outputs": [],
   "source": [
    "param_grid = {\n",
    "        'LR' : {\n",
    "                'penalty' : ['l1', 'l2']\n",
    "        },\n",
    "        'SVC' : {\n",
    "                'kernel' : ['linear', 'poly', 'rbf', 'sigmoid']\n",
    "        }\n",
    "}"
   ]
  },
  {
   "cell_type": "code",
   "execution_count": 6,
   "metadata": {
    "collapsed": false
   },
   "outputs": [
    {
     "data": {
      "text/html": [
       "<div>\n",
       "<table border=\"1\" class=\"dataframe\">\n",
       "  <thead>\n",
       "    <tr style=\"text-align: right;\">\n",
       "      <th></th>\n",
       "      <th>Scaler</th>\n",
       "      <th>Classifier</th>\n",
       "    </tr>\n",
       "  </thead>\n",
       "  <tbody>\n",
       "    <tr>\n",
       "      <th>0</th>\n",
       "      <td>minmax</td>\n",
       "      <td>LR</td>\n",
       "    </tr>\n",
       "    <tr>\n",
       "      <th>1</th>\n",
       "      <td>minmax</td>\n",
       "      <td>SVC</td>\n",
       "    </tr>\n",
       "    <tr>\n",
       "      <th>2</th>\n",
       "      <td>standard</td>\n",
       "      <td>LR</td>\n",
       "    </tr>\n",
       "    <tr>\n",
       "      <th>3</th>\n",
       "      <td>standard</td>\n",
       "      <td>SVC</td>\n",
       "    </tr>\n",
       "  </tbody>\n",
       "</table>\n",
       "</div>"
      ],
      "text/plain": [
       "     Scaler Classifier\n",
       "0    minmax         LR\n",
       "1    minmax        SVC\n",
       "2  standard         LR\n",
       "3  standard        SVC"
      ]
     },
     "execution_count": 6,
     "metadata": {},
     "output_type": "execute_result"
    }
   ],
   "source": [
    "from reskit.core import Pipeliner\n",
    "\n",
    "\n",
    "pipe = Pipeliner(steps, param_grid=param_grid)\n",
    "pipe.plan_table"
   ]
  },
  {
   "cell_type": "code",
   "execution_count": 7,
   "metadata": {
    "collapsed": false,
    "scrolled": false
   },
   "outputs": [
    {
     "name": "stdout",
     "output_type": "stream",
     "text": [
      "No previous results found.\n",
      "Line: 1/4\n",
      "Line: 2/4\n",
      "Line: 3/4\n",
      "Line: 4/4\n"
     ]
    },
    {
     "data": {
      "text/html": [
       "<div>\n",
       "<table border=\"1\" class=\"dataframe\">\n",
       "  <thead>\n",
       "    <tr style=\"text-align: right;\">\n",
       "      <th></th>\n",
       "      <th>Scaler</th>\n",
       "      <th>Classifier</th>\n",
       "      <th>grid_roc_auc_mean</th>\n",
       "      <th>grid_roc_auc_std</th>\n",
       "      <th>grid_roc_auc_best_params</th>\n",
       "      <th>eval_roc_auc_mean</th>\n",
       "      <th>eval_roc_auc_std</th>\n",
       "      <th>eval_roc_auc_scores</th>\n",
       "    </tr>\n",
       "  </thead>\n",
       "  <tbody>\n",
       "    <tr>\n",
       "      <th>0</th>\n",
       "      <td>minmax</td>\n",
       "      <td>LR</td>\n",
       "      <td>0.869559</td>\n",
       "      <td>0.0368628</td>\n",
       "      <td>{'penalty': 'l1'}</td>\n",
       "      <td>0.869954</td>\n",
       "      <td>0.0368373</td>\n",
       "      <td>[ 0.83044983  0.86029412  0.91911765]</td>\n",
       "    </tr>\n",
       "    <tr>\n",
       "      <th>1</th>\n",
       "      <td>minmax</td>\n",
       "      <td>SVC</td>\n",
       "      <td>0.839706</td>\n",
       "      <td>0.0616379</td>\n",
       "      <td>{'kernel': 'linear'}</td>\n",
       "      <td>0.840254</td>\n",
       "      <td>0.0617057</td>\n",
       "      <td>[ 0.78546713  0.80882353  0.92647059]</td>\n",
       "    </tr>\n",
       "    <tr>\n",
       "      <th>2</th>\n",
       "      <td>standard</td>\n",
       "      <td>LR</td>\n",
       "      <td>0.849007</td>\n",
       "      <td>0.0389125</td>\n",
       "      <td>{'penalty': 'l1'}</td>\n",
       "      <td>0.849265</td>\n",
       "      <td>0.0390237</td>\n",
       "      <td>[ 0.82352941  0.81985294  0.90441176]</td>\n",
       "    </tr>\n",
       "    <tr>\n",
       "      <th>3</th>\n",
       "      <td>standard</td>\n",
       "      <td>SVC</td>\n",
       "      <td>0.839669</td>\n",
       "      <td>0.0565861</td>\n",
       "      <td>{'kernel': 'sigmoid'}</td>\n",
       "      <td>0.840182</td>\n",
       "      <td>0.0566397</td>\n",
       "      <td>[ 0.78892734  0.8125      0.91911765]</td>\n",
       "    </tr>\n",
       "  </tbody>\n",
       "</table>\n",
       "</div>"
      ],
      "text/plain": [
       "     Scaler Classifier grid_roc_auc_mean grid_roc_auc_std  \\\n",
       "0    minmax         LR          0.869559        0.0368628   \n",
       "1    minmax        SVC          0.839706        0.0616379   \n",
       "2  standard         LR          0.849007        0.0389125   \n",
       "3  standard        SVC          0.839669        0.0565861   \n",
       "\n",
       "  grid_roc_auc_best_params eval_roc_auc_mean eval_roc_auc_std  \\\n",
       "0        {'penalty': 'l1'}          0.869954        0.0368373   \n",
       "1     {'kernel': 'linear'}          0.840254        0.0617057   \n",
       "2        {'penalty': 'l1'}          0.849265        0.0390237   \n",
       "3    {'kernel': 'sigmoid'}          0.840182        0.0566397   \n",
       "\n",
       "                     eval_roc_auc_scores  \n",
       "0  [ 0.83044983  0.86029412  0.91911765]  \n",
       "1  [ 0.78546713  0.80882353  0.92647059]  \n",
       "2  [ 0.82352941  0.81985294  0.90441176]  \n",
       "3  [ 0.78892734  0.8125      0.91911765]  "
      ]
     },
     "execution_count": 7,
     "metadata": {},
     "output_type": "execute_result"
    }
   ],
   "source": [
    "pipe.get_results(data=data, scoring=['roc_auc'])"
   ]
  }
 ],
 "metadata": {
  "kernelspec": {
   "display_name": "Python 3",
   "language": "python",
   "name": "python3"
  },
  "language_info": {
   "codemirror_mode": {
    "name": "ipython",
    "version": 3
   },
   "file_extension": ".py",
   "mimetype": "text/x-python",
   "name": "python",
   "nbconvert_exporter": "python",
   "pygments_lexer": "ipython3",
   "version": "3.6.0"
  }
 },
 "nbformat": 4,
 "nbformat_minor": 2
}
