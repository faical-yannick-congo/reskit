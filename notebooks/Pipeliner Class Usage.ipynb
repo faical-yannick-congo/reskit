{
 "cells": [
  {
   "cell_type": "markdown",
   "metadata": {},
   "source": [
    "## 1. Defining Pipelines Steps"
   ]
  },
  {
   "cell_type": "code",
   "execution_count": 3,
   "metadata": {
    "collapsed": true
   },
   "outputs": [],
   "source": [
    "from sklearn.feature_selection import VarianceThreshold\n",
    "\n",
    "\n",
    "selectors = [\n",
    "        ('var_threshold', VarianceThreshold())\n",
    "]"
   ]
  },
  {
   "cell_type": "code",
   "execution_count": 4,
   "metadata": {
    "collapsed": true
   },
   "outputs": [],
   "source": [
    "from sklearn.preprocessing import StandardScaler\n",
    "from sklearn.preprocessing import MinMaxScaler\n",
    "\n",
    "\n",
    "scalers = [\n",
    "        ('minmax', MinMaxScaler()),\n",
    "        ('standard', StandardScaler())\n",
    "]"
   ]
  },
  {
   "cell_type": "code",
   "execution_count": 5,
   "metadata": {
    "collapsed": true
   },
   "outputs": [],
   "source": [
    "from sklearn.linear_model import LogisticRegression\n",
    "from sklearn.svm import SVC\n",
    "\n",
    "\n",
    "classifiers = [\n",
    "        ('LR', LogisticRegression()),\n",
    "        ('SVC', SVC())\n",
    "]"
   ]
  },
  {
   "cell_type": "code",
   "execution_count": 6,
   "metadata": {
    "collapsed": true
   },
   "outputs": [],
   "source": [
    "from sklearn.model_selection import StratifiedKFold\n",
    "\n",
    "\n",
    "grid_cv = StratifiedKFold(n_splits=5, shuffle=True, random_state=0)\n",
    "eval_cv = StratifiedKFold(n_splits=5, shuffle=True, random_state=1)"
   ]
  },
  {
   "cell_type": "code",
   "execution_count": 7,
   "metadata": {
    "collapsed": true
   },
   "outputs": [],
   "source": [
    "from reskit.core import Pipeliner\n",
    "\n",
    "\n",
    "steps = [\n",
    "        ('Data', datasets),\n",
    "        ('Selector', selectors),\n",
    "        ('Scaler', scalers),\n",
    "        ('Classifier', classifiers)\n",
    "]"
   ]
  },
  {
   "cell_type": "markdown",
   "metadata": {},
   "source": [
    "## 2. Defining Grid Search Parameters"
   ]
  },
  {
   "cell_type": "code",
   "execution_count": 8,
   "metadata": {
    "collapsed": false
   },
   "outputs": [
    {
     "data": {
      "text/html": [
       "<div>\n",
       "<table border=\"1\" class=\"dataframe\">\n",
       "  <thead>\n",
       "    <tr style=\"text-align: right;\">\n",
       "      <th></th>\n",
       "      <th>Data</th>\n",
       "      <th>Selector</th>\n",
       "      <th>Scaler</th>\n",
       "      <th>Classifier</th>\n",
       "    </tr>\n",
       "  </thead>\n",
       "  <tbody>\n",
       "    <tr>\n",
       "      <th>0</th>\n",
       "      <td>dataset1</td>\n",
       "      <td>var_threshold</td>\n",
       "      <td>minmax</td>\n",
       "      <td>LR</td>\n",
       "    </tr>\n",
       "    <tr>\n",
       "      <th>1</th>\n",
       "      <td>dataset1</td>\n",
       "      <td>var_threshold</td>\n",
       "      <td>minmax</td>\n",
       "      <td>SVC</td>\n",
       "    </tr>\n",
       "    <tr>\n",
       "      <th>2</th>\n",
       "      <td>dataset1</td>\n",
       "      <td>var_threshold</td>\n",
       "      <td>standard</td>\n",
       "      <td>LR</td>\n",
       "    </tr>\n",
       "    <tr>\n",
       "      <th>3</th>\n",
       "      <td>dataset1</td>\n",
       "      <td>var_threshold</td>\n",
       "      <td>standard</td>\n",
       "      <td>SVC</td>\n",
       "    </tr>\n",
       "    <tr>\n",
       "      <th>4</th>\n",
       "      <td>dataset2</td>\n",
       "      <td>var_threshold</td>\n",
       "      <td>minmax</td>\n",
       "      <td>LR</td>\n",
       "    </tr>\n",
       "    <tr>\n",
       "      <th>5</th>\n",
       "      <td>dataset2</td>\n",
       "      <td>var_threshold</td>\n",
       "      <td>minmax</td>\n",
       "      <td>SVC</td>\n",
       "    </tr>\n",
       "    <tr>\n",
       "      <th>6</th>\n",
       "      <td>dataset2</td>\n",
       "      <td>var_threshold</td>\n",
       "      <td>standard</td>\n",
       "      <td>LR</td>\n",
       "    </tr>\n",
       "    <tr>\n",
       "      <th>7</th>\n",
       "      <td>dataset2</td>\n",
       "      <td>var_threshold</td>\n",
       "      <td>standard</td>\n",
       "      <td>SVC</td>\n",
       "    </tr>\n",
       "  </tbody>\n",
       "</table>\n",
       "</div>"
      ],
      "text/plain": [
       "       Data       Selector    Scaler Classifier\n",
       "0  dataset1  var_threshold    minmax         LR\n",
       "1  dataset1  var_threshold    minmax        SVC\n",
       "2  dataset1  var_threshold  standard         LR\n",
       "3  dataset1  var_threshold  standard        SVC\n",
       "4  dataset2  var_threshold    minmax         LR\n",
       "5  dataset2  var_threshold    minmax        SVC\n",
       "6  dataset2  var_threshold  standard         LR\n",
       "7  dataset2  var_threshold  standard        SVC"
      ]
     },
     "execution_count": 8,
     "metadata": {},
     "output_type": "execute_result"
    }
   ],
   "source": [
    "\n",
    "\n",
    "param_grid = {\n",
    "        'LR' : {\n",
    "                'penalty' : ['l1', 'l2']\n",
    "        },\n",
    "        'SVC' : {\n",
    "                'kernel' : ['linear', 'poly', 'rbf', 'sigmoid']\n",
    "        }\n",
    "}\n",
    "\n",
    "pipe = Pipeliner(steps, eval_cv=eval_cv, grid_cv=grid_cv, param_grid=param_grid)\n",
    "pipe.plan_table"
   ]
  },
  {
   "cell_type": "markdown",
   "metadata": {},
   "source": [
    "## 3. Launching Experiment"
   ]
  },
  {
   "cell_type": "code",
   "execution_count": 9,
   "metadata": {
    "collapsed": false,
    "scrolled": false
   },
   "outputs": [
    {
     "name": "stdout",
     "output_type": "stream",
     "text": [
      "Removed previous results file -- results.csv.\n",
      "Line: 1/8\n",
      "Line: 2/8\n",
      "Line: 3/8\n",
      "Line: 4/8\n",
      "Line: 5/8\n",
      "Line: 6/8\n",
      "Line: 7/8\n",
      "Line: 8/8\n"
     ]
    },
    {
     "data": {
      "text/html": [
       "<div>\n",
       "<table border=\"1\" class=\"dataframe\">\n",
       "  <thead>\n",
       "    <tr style=\"text-align: right;\">\n",
       "      <th></th>\n",
       "      <th>Data</th>\n",
       "      <th>Selector</th>\n",
       "      <th>Scaler</th>\n",
       "      <th>Classifier</th>\n",
       "      <th>grid_roc_auc_mean</th>\n",
       "      <th>grid_roc_auc_std</th>\n",
       "      <th>grid_roc_auc_best_params</th>\n",
       "      <th>eval_roc_auc_mean</th>\n",
       "      <th>eval_roc_auc_std</th>\n",
       "      <th>eval_roc_auc_scores</th>\n",
       "    </tr>\n",
       "  </thead>\n",
       "  <tbody>\n",
       "    <tr>\n",
       "      <th>0</th>\n",
       "      <td>dataset1</td>\n",
       "      <td>var_threshold</td>\n",
       "      <td>minmax</td>\n",
       "      <td>LR</td>\n",
       "      <td>0.850809</td>\n",
       "      <td>0.0518758</td>\n",
       "      <td>{'penalty': 'l2'}</td>\n",
       "      <td>0.831009</td>\n",
       "      <td>0.109763</td>\n",
       "      <td>[ 0.77508651  0.73356401  0.984375  ]</td>\n",
       "    </tr>\n",
       "    <tr>\n",
       "      <th>1</th>\n",
       "      <td>dataset1</td>\n",
       "      <td>var_threshold</td>\n",
       "      <td>minmax</td>\n",
       "      <td>SVC</td>\n",
       "      <td>0.883676</td>\n",
       "      <td>0.0242608</td>\n",
       "      <td>{'kernel': 'linear'}</td>\n",
       "      <td>0.853594</td>\n",
       "      <td>0.0623489</td>\n",
       "      <td>[ 0.816609    0.80276817  0.94140625]</td>\n",
       "    </tr>\n",
       "    <tr>\n",
       "      <th>2</th>\n",
       "      <td>dataset1</td>\n",
       "      <td>var_threshold</td>\n",
       "      <td>standard</td>\n",
       "      <td>LR</td>\n",
       "      <td>0.896176</td>\n",
       "      <td>0.0496912</td>\n",
       "      <td>{'penalty': 'l2'}</td>\n",
       "      <td>0.889499</td>\n",
       "      <td>0.0419183</td>\n",
       "      <td>[ 0.87889273  0.84429066  0.9453125 ]</td>\n",
       "    </tr>\n",
       "    <tr>\n",
       "      <th>3</th>\n",
       "      <td>dataset1</td>\n",
       "      <td>var_threshold</td>\n",
       "      <td>standard</td>\n",
       "      <td>SVC</td>\n",
       "      <td>0.929191</td>\n",
       "      <td>0.0343201</td>\n",
       "      <td>{'kernel': 'rbf'}</td>\n",
       "      <td>0.87231</td>\n",
       "      <td>0.0325624</td>\n",
       "      <td>[ 0.85467128  0.84429066  0.91796875]</td>\n",
       "    </tr>\n",
       "    <tr>\n",
       "      <th>4</th>\n",
       "      <td>dataset2</td>\n",
       "      <td>var_threshold</td>\n",
       "      <td>minmax</td>\n",
       "      <td>LR</td>\n",
       "      <td>0.873676</td>\n",
       "      <td>0.0397707</td>\n",
       "      <td>{'penalty': 'l2'}</td>\n",
       "      <td>0.872644</td>\n",
       "      <td>0.0861623</td>\n",
       "      <td>[ 0.75432526  0.90657439  0.95703125]</td>\n",
       "    </tr>\n",
       "    <tr>\n",
       "      <th>5</th>\n",
       "      <td>dataset2</td>\n",
       "      <td>var_threshold</td>\n",
       "      <td>minmax</td>\n",
       "      <td>SVC</td>\n",
       "      <td>0.934853</td>\n",
       "      <td>0.0289309</td>\n",
       "      <td>{'kernel': 'linear'}</td>\n",
       "      <td>0.919226</td>\n",
       "      <td>0.0441214</td>\n",
       "      <td>[ 0.8615917   0.92733564  0.96875   ]</td>\n",
       "    </tr>\n",
       "    <tr>\n",
       "      <th>6</th>\n",
       "      <td>dataset2</td>\n",
       "      <td>var_threshold</td>\n",
       "      <td>standard</td>\n",
       "      <td>LR</td>\n",
       "      <td>0.926176</td>\n",
       "      <td>0.0233515</td>\n",
       "      <td>{'penalty': 'l1'}</td>\n",
       "      <td>0.939726</td>\n",
       "      <td>0.0387793</td>\n",
       "      <td>[ 0.89965398  0.92733564  0.9921875 ]</td>\n",
       "    </tr>\n",
       "    <tr>\n",
       "      <th>7</th>\n",
       "      <td>dataset2</td>\n",
       "      <td>var_threshold</td>\n",
       "      <td>standard</td>\n",
       "      <td>SVC</td>\n",
       "      <td>0.92875</td>\n",
       "      <td>0.0309362</td>\n",
       "      <td>{'kernel': 'poly'}</td>\n",
       "      <td>0.902371</td>\n",
       "      <td>0.0640724</td>\n",
       "      <td>[ 0.82352941  0.90311419  0.98046875]</td>\n",
       "    </tr>\n",
       "  </tbody>\n",
       "</table>\n",
       "</div>"
      ],
      "text/plain": [
       "       Data       Selector    Scaler Classifier grid_roc_auc_mean  \\\n",
       "0  dataset1  var_threshold    minmax         LR          0.850809   \n",
       "1  dataset1  var_threshold    minmax        SVC          0.883676   \n",
       "2  dataset1  var_threshold  standard         LR          0.896176   \n",
       "3  dataset1  var_threshold  standard        SVC          0.929191   \n",
       "4  dataset2  var_threshold    minmax         LR          0.873676   \n",
       "5  dataset2  var_threshold    minmax        SVC          0.934853   \n",
       "6  dataset2  var_threshold  standard         LR          0.926176   \n",
       "7  dataset2  var_threshold  standard        SVC           0.92875   \n",
       "\n",
       "  grid_roc_auc_std grid_roc_auc_best_params eval_roc_auc_mean  \\\n",
       "0        0.0518758        {'penalty': 'l2'}          0.831009   \n",
       "1        0.0242608     {'kernel': 'linear'}          0.853594   \n",
       "2        0.0496912        {'penalty': 'l2'}          0.889499   \n",
       "3        0.0343201        {'kernel': 'rbf'}           0.87231   \n",
       "4        0.0397707        {'penalty': 'l2'}          0.872644   \n",
       "5        0.0289309     {'kernel': 'linear'}          0.919226   \n",
       "6        0.0233515        {'penalty': 'l1'}          0.939726   \n",
       "7        0.0309362       {'kernel': 'poly'}          0.902371   \n",
       "\n",
       "  eval_roc_auc_std                    eval_roc_auc_scores  \n",
       "0         0.109763  [ 0.77508651  0.73356401  0.984375  ]  \n",
       "1        0.0623489  [ 0.816609    0.80276817  0.94140625]  \n",
       "2        0.0419183  [ 0.87889273  0.84429066  0.9453125 ]  \n",
       "3        0.0325624  [ 0.85467128  0.84429066  0.91796875]  \n",
       "4        0.0861623  [ 0.75432526  0.90657439  0.95703125]  \n",
       "5        0.0441214  [ 0.8615917   0.92733564  0.96875   ]  \n",
       "6        0.0387793  [ 0.89965398  0.92733564  0.9921875 ]  \n",
       "7        0.0640724  [ 0.82352941  0.90311419  0.98046875]  "
      ]
     },
     "execution_count": 9,
     "metadata": {},
     "output_type": "execute_result"
    }
   ],
   "source": [
    "pipe.get_results(data='path/to/directory', caching_steps=['Data'], scoring=['roc_auc'])"
   ]
  },
  {
   "cell_type": "code",
   "execution_count": null,
   "metadata": {
    "collapsed": true
   },
   "outputs": [],
   "source": [
    "pipe."
   ]
  }
 ],
 "metadata": {
  "kernelspec": {
   "display_name": "Python 3",
   "language": "python",
   "name": "python3"
  },
  "language_info": {
   "codemirror_mode": {
    "name": "ipython",
    "version": 3
   },
   "file_extension": ".py",
   "mimetype": "text/x-python",
   "name": "python",
   "nbconvert_exporter": "python",
   "pygments_lexer": "ipython3",
   "version": "3.6.0"
  }
 },
 "nbformat": 4,
 "nbformat_minor": 2
}
