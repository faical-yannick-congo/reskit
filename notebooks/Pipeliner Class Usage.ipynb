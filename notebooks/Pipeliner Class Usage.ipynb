{
 "cells": [
  {
   "cell_type": "code",
   "execution_count": 1,
   "metadata": {
    "collapsed": true
   },
   "outputs": [],
   "source": [
    "from sklearn.datasets import make_classification\n",
    "\n",
    "\n",
    "X, y = make_classification()\n",
    "data = {'X': X, 'y': y}"
   ]
  },
  {
   "cell_type": "markdown",
   "metadata": {},
   "source": [
    "## 1. Defining Pipelines Steps"
   ]
  },
  {
   "cell_type": "code",
   "execution_count": null,
   "metadata": {
    "collapsed": true
   },
   "outputs": [],
   "source": [
    "from reskit.core import Transformer\n",
    "import numpy as np\n",
    "\n",
    "\n",
    "def delete_first_column(data):\n",
    "    data['X'] = np.delete(data['X'], 0, 1)\n",
    "    return data\n",
    "\n",
    "def mean_scaling_for_last column(data):\n",
    "    mean_of_last_column = \n",
    "    data['X'][,-1] = data['X'][,-1]"
   ]
  },
  {
   "cell_type": "code",
   "execution_count": 3,
   "metadata": {
    "collapsed": true
   },
   "outputs": [],
   "source": [
    "from sklearn.linear_model import LogisticRegression\n",
    "from sklearn.svm import SVC\n",
    "\n",
    "\n",
    "classifiers = [\n",
    "        ('LR', LogisticRegression()),\n",
    "        ('SVC', SVC())\n",
    "]"
   ]
  },
  {
   "cell_type": "code",
   "execution_count": 4,
   "metadata": {
    "collapsed": true
   },
   "outputs": [],
   "source": [
    "from sklearn.model_selection import StratifiedKFold\n",
    "\n",
    "\n",
    "grid_cv = StratifiedKFold(n_splits=5, shuffle=True, random_state=0)\n",
    "eval_cv = StratifiedKFold(n_splits=5, shuffle=True, random_state=1)"
   ]
  },
  {
   "cell_type": "code",
   "execution_count": 5,
   "metadata": {
    "collapsed": false
   },
   "outputs": [],
   "source": [
    "from reskit.core import Pipeliner\n",
    "\n",
    "\n",
    "steps = [\n",
    "        ('Scaler', scalers),\n",
    "        ('Classifier', classifiers)\n",
    "]"
   ]
  },
  {
   "cell_type": "markdown",
   "metadata": {},
   "source": [
    "## 2. Defining Grid Search Parameters"
   ]
  },
  {
   "cell_type": "code",
   "execution_count": 6,
   "metadata": {
    "collapsed": false
   },
   "outputs": [
    {
     "data": {
      "text/html": [
       "<div>\n",
       "<table border=\"1\" class=\"dataframe\">\n",
       "  <thead>\n",
       "    <tr style=\"text-align: right;\">\n",
       "      <th></th>\n",
       "      <th>Scaler</th>\n",
       "      <th>Classifier</th>\n",
       "    </tr>\n",
       "  </thead>\n",
       "  <tbody>\n",
       "    <tr>\n",
       "      <th>0</th>\n",
       "      <td>minmax</td>\n",
       "      <td>LR</td>\n",
       "    </tr>\n",
       "    <tr>\n",
       "      <th>1</th>\n",
       "      <td>minmax</td>\n",
       "      <td>SVC</td>\n",
       "    </tr>\n",
       "    <tr>\n",
       "      <th>2</th>\n",
       "      <td>standard</td>\n",
       "      <td>LR</td>\n",
       "    </tr>\n",
       "    <tr>\n",
       "      <th>3</th>\n",
       "      <td>standard</td>\n",
       "      <td>SVC</td>\n",
       "    </tr>\n",
       "  </tbody>\n",
       "</table>\n",
       "</div>"
      ],
      "text/plain": [
       "     Scaler Classifier\n",
       "0    minmax         LR\n",
       "1    minmax        SVC\n",
       "2  standard         LR\n",
       "3  standard        SVC"
      ]
     },
     "execution_count": 6,
     "metadata": {},
     "output_type": "execute_result"
    }
   ],
   "source": [
    "\n",
    "\n",
    "param_grid = {\n",
    "        'LR' : {\n",
    "                'penalty' : ['l1', 'l2']\n",
    "        },\n",
    "        'SVC' : {\n",
    "                'kernel' : ['linear', 'poly', 'rbf', 'sigmoid']\n",
    "        }\n",
    "}\n",
    "\n",
    "pipe = Pipeliner(steps, eval_cv=eval_cv, grid_cv=grid_cv, param_grid=param_grid)\n",
    "pipe.plan_table"
   ]
  },
  {
   "cell_type": "markdown",
   "metadata": {},
   "source": [
    "## 3. Launching Experiment"
   ]
  },
  {
   "cell_type": "code",
   "execution_count": 7,
   "metadata": {
    "collapsed": false,
    "scrolled": false
   },
   "outputs": [
    {
     "name": "stdout",
     "output_type": "stream",
     "text": [
      "Removed previous results file -- results.csv.\n",
      "Line: 1/4\n",
      "Line: 2/4\n",
      "Line: 3/4\n",
      "Line: 4/4\n"
     ]
    },
    {
     "data": {
      "text/html": [
       "<div>\n",
       "<table border=\"1\" class=\"dataframe\">\n",
       "  <thead>\n",
       "    <tr style=\"text-align: right;\">\n",
       "      <th></th>\n",
       "      <th>Scaler</th>\n",
       "      <th>Classifier</th>\n",
       "      <th>grid_roc_auc_mean</th>\n",
       "      <th>grid_roc_auc_std</th>\n",
       "      <th>grid_roc_auc_best_params</th>\n",
       "      <th>eval_roc_auc_mean</th>\n",
       "      <th>eval_roc_auc_std</th>\n",
       "      <th>eval_roc_auc_scores</th>\n",
       "    </tr>\n",
       "  </thead>\n",
       "  <tbody>\n",
       "    <tr>\n",
       "      <th>0</th>\n",
       "      <td>minmax</td>\n",
       "      <td>LR</td>\n",
       "      <td>0.976</td>\n",
       "      <td>0.0205913</td>\n",
       "      <td>{'penalty': 'l1'}</td>\n",
       "      <td>0.982</td>\n",
       "      <td>0.016</td>\n",
       "      <td>[ 0.96  0.97  1.    1.    0.98]</td>\n",
       "    </tr>\n",
       "    <tr>\n",
       "      <th>1</th>\n",
       "      <td>minmax</td>\n",
       "      <td>SVC</td>\n",
       "      <td>0.984</td>\n",
       "      <td>0.0162481</td>\n",
       "      <td>{'kernel': 'rbf'}</td>\n",
       "      <td>0.97</td>\n",
       "      <td>0.0167332</td>\n",
       "      <td>[ 0.96  0.95  0.97  1.    0.97]</td>\n",
       "    </tr>\n",
       "    <tr>\n",
       "      <th>2</th>\n",
       "      <td>standard</td>\n",
       "      <td>LR</td>\n",
       "      <td>0.986</td>\n",
       "      <td>0.0174356</td>\n",
       "      <td>{'penalty': 'l1'}</td>\n",
       "      <td>0.984</td>\n",
       "      <td>0.0224499</td>\n",
       "      <td>[ 0.99  0.94  1.    1.    0.99]</td>\n",
       "    </tr>\n",
       "    <tr>\n",
       "      <th>3</th>\n",
       "      <td>standard</td>\n",
       "      <td>SVC</td>\n",
       "      <td>0.968</td>\n",
       "      <td>0.0193907</td>\n",
       "      <td>{'kernel': 'sigmoid'}</td>\n",
       "      <td>0.966</td>\n",
       "      <td>0.0195959</td>\n",
       "      <td>[ 0.97  0.96  0.96  1.    0.94]</td>\n",
       "    </tr>\n",
       "  </tbody>\n",
       "</table>\n",
       "</div>"
      ],
      "text/plain": [
       "     Scaler Classifier grid_roc_auc_mean grid_roc_auc_std  \\\n",
       "0    minmax         LR             0.976        0.0205913   \n",
       "1    minmax        SVC             0.984        0.0162481   \n",
       "2  standard         LR             0.986        0.0174356   \n",
       "3  standard        SVC             0.968        0.0193907   \n",
       "\n",
       "  grid_roc_auc_best_params eval_roc_auc_mean eval_roc_auc_std  \\\n",
       "0        {'penalty': 'l1'}             0.982            0.016   \n",
       "1        {'kernel': 'rbf'}              0.97        0.0167332   \n",
       "2        {'penalty': 'l1'}             0.984        0.0224499   \n",
       "3    {'kernel': 'sigmoid'}             0.966        0.0195959   \n",
       "\n",
       "               eval_roc_auc_scores  \n",
       "0  [ 0.96  0.97  1.    1.    0.98]  \n",
       "1  [ 0.96  0.95  0.97  1.    0.97]  \n",
       "2  [ 0.99  0.94  1.    1.    0.99]  \n",
       "3  [ 0.97  0.96  0.96  1.    0.94]  "
      ]
     },
     "execution_count": 7,
     "metadata": {},
     "output_type": "execute_result"
    }
   ],
   "source": [
    "pipe.get_results(data=data, scoring=['roc_auc'])"
   ]
  },
  {
   "cell_type": "markdown",
   "metadata": {},
   "source": [
    "transform_with_caching"
   ]
  },
  {
   "cell_type": "code",
   "execution_count": null,
   "metadata": {
    "collapsed": true
   },
   "outputs": [],
   "source": [
    "pipe.transform_with_caching"
   ]
  },
  {
   "cell_type": "markdown",
   "metadata": {},
   "source": [
    "get_grid_search_results"
   ]
  },
  {
   "cell_type": "markdown",
   "metadata": {},
   "source": [
    "get_scores"
   ]
  },
  {
   "cell_type": "markdown",
   "metadata": {},
   "source": [
    "get_results"
   ]
  }
 ],
 "metadata": {
  "kernelspec": {
   "display_name": "Python 3",
   "language": "python",
   "name": "python3"
  },
  "language_info": {
   "codemirror_mode": {
    "name": "ipython",
    "version": 3
   },
   "file_extension": ".py",
   "mimetype": "text/x-python",
   "name": "python",
   "nbconvert_exporter": "python",
   "pygments_lexer": "ipython3",
   "version": "3.6.0"
  }
 },
 "nbformat": 4,
 "nbformat_minor": 2
}
