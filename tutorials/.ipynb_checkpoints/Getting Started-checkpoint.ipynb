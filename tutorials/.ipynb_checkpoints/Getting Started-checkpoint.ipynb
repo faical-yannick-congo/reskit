{
 "cells": [
  {
   "cell_type": "markdown",
   "metadata": {
    "deletable": true,
    "editable": true
   },
   "source": [
    "Let's say we want to prepare data and try some scalers and classifiers for prediction in a classification problem. We will tune paramaters of classifiers by grid search technique."
   ]
  },
  {
   "cell_type": "markdown",
   "metadata": {
    "deletable": true,
    "editable": true
   },
   "source": [
    "Data preparing:"
   ]
  },
  {
   "cell_type": "code",
   "execution_count": 1,
   "metadata": {
    "collapsed": true,
    "deletable": true,
    "editable": true
   },
   "outputs": [],
   "source": [
    "from sklearn.datasets import make_classification\n",
    "\n",
    "\n",
    "X, y = make_classification()\n",
    "data = {'X': X, 'y': y}"
   ]
  },
  {
   "cell_type": "markdown",
   "metadata": {
    "deletable": true,
    "editable": true
   },
   "source": [
    "Setting steps for our pipelines and parameters for grid search:"
   ]
  },
  {
   "cell_type": "code",
   "execution_count": 2,
   "metadata": {
    "collapsed": false,
    "deletable": true,
    "editable": true
   },
   "outputs": [],
   "source": [
    "from reskit.core import Pipeliner\n",
    "\n",
    "\n",
    "from sklearn.preprocessing import StandardScaler\n",
    "from sklearn.preprocessing import MinMaxScaler\n",
    "\n",
    "from sklearn.linear_model import LogisticRegression\n",
    "from sklearn.svm import SVC\n",
    "\n",
    "\n",
    "classifiers = [('LR', LogisticRegression()),\n",
    "               ('SVC', SVC())]\n",
    "\n",
    "scalers = [('standard', StandardScaler()),\n",
    "           ('minmax', MinMaxScaler())]\n",
    "\n",
    "steps = [('scaler', scalers),\n",
    "         ('classifier', classifiers)]\n",
    "\n",
    "param_grid = {'LR': {'penalty': ['l1', 'l2']},\n",
    "              'SVC': {'kernel': ['linear', 'poly', 'rbf', 'sigmoid']}}"
   ]
  },
  {
   "cell_type": "markdown",
   "metadata": {
    "deletable": true,
    "editable": true
   },
   "source": [
    "Creating a plan of our research:"
   ]
  },
  {
   "cell_type": "code",
   "execution_count": 3,
   "metadata": {
    "collapsed": false,
    "deletable": true,
    "editable": true,
    "scrolled": true
   },
   "outputs": [
    {
     "data": {
      "text/html": [
       "<div>\n",
       "<table border=\"1\" class=\"dataframe\">\n",
       "  <thead>\n",
       "    <tr style=\"text-align: right;\">\n",
       "      <th></th>\n",
       "      <th>scaler</th>\n",
       "      <th>classifier</th>\n",
       "    </tr>\n",
       "  </thead>\n",
       "  <tbody>\n",
       "    <tr>\n",
       "      <th>0</th>\n",
       "      <td>standard</td>\n",
       "      <td>LR</td>\n",
       "    </tr>\n",
       "    <tr>\n",
       "      <th>1</th>\n",
       "      <td>standard</td>\n",
       "      <td>SVC</td>\n",
       "    </tr>\n",
       "    <tr>\n",
       "      <th>2</th>\n",
       "      <td>minmax</td>\n",
       "      <td>LR</td>\n",
       "    </tr>\n",
       "    <tr>\n",
       "      <th>3</th>\n",
       "      <td>minmax</td>\n",
       "      <td>SVC</td>\n",
       "    </tr>\n",
       "  </tbody>\n",
       "</table>\n",
       "</div>"
      ],
      "text/plain": [
       "     scaler classifier\n",
       "0  standard         LR\n",
       "1  standard        SVC\n",
       "2    minmax         LR\n",
       "3    minmax        SVC"
      ]
     },
     "execution_count": 3,
     "metadata": {},
     "output_type": "execute_result"
    }
   ],
   "source": [
    "pipe = Pipeliner(steps, param_grid=param_grid)\n",
    "pipe.plan_table"
   ]
  },
  {
   "cell_type": "markdown",
   "metadata": {
    "deletable": true,
    "editable": true
   },
   "source": [
    "To tune parameters of models and evaluate this models, run:"
   ]
  },
  {
   "cell_type": "code",
   "execution_count": 4,
   "metadata": {
    "collapsed": false,
    "deletable": true,
    "editable": true
   },
   "outputs": [
    {
     "name": "stdout",
     "output_type": "stream",
     "text": [
      "Line: 1/4\n",
      "Line: 2/4\n",
      "Line: 3/4\n",
      "Line: 4/4\n"
     ]
    },
    {
     "data": {
      "text/html": [
       "<div>\n",
       "<table border=\"1\" class=\"dataframe\">\n",
       "  <thead>\n",
       "    <tr style=\"text-align: right;\">\n",
       "      <th></th>\n",
       "      <th>scaler</th>\n",
       "      <th>classifier</th>\n",
       "      <th>grid_roc_auc_mean</th>\n",
       "      <th>grid_roc_auc_std</th>\n",
       "      <th>grid_roc_auc_best_params</th>\n",
       "      <th>eval_roc_auc_mean</th>\n",
       "      <th>eval_roc_auc_std</th>\n",
       "      <th>eval_roc_auc_scores</th>\n",
       "    </tr>\n",
       "  </thead>\n",
       "  <tbody>\n",
       "    <tr>\n",
       "      <th>0</th>\n",
       "      <td>standard</td>\n",
       "      <td>LR</td>\n",
       "      <td>0.987868</td>\n",
       "      <td>0.0052723</td>\n",
       "      <td>{'penalty': 'l1'}</td>\n",
       "      <td>0.987723</td>\n",
       "      <td>0.00532019</td>\n",
       "      <td>[ 0.99307958  0.98961938  0.98046875]</td>\n",
       "    </tr>\n",
       "    <tr>\n",
       "      <th>1</th>\n",
       "      <td>standard</td>\n",
       "      <td>SVC</td>\n",
       "      <td>0.984485</td>\n",
       "      <td>0.00386297</td>\n",
       "      <td>{'kernel': 'poly'}</td>\n",
       "      <td>0.98456</td>\n",
       "      <td>0.00386095</td>\n",
       "      <td>[ 0.97923875  0.98615917  0.98828125]</td>\n",
       "    </tr>\n",
       "    <tr>\n",
       "      <th>2</th>\n",
       "      <td>minmax</td>\n",
       "      <td>LR</td>\n",
       "      <td>0.992647</td>\n",
       "      <td>0.00635158</td>\n",
       "      <td>{'penalty': 'l1'}</td>\n",
       "      <td>0.992485</td>\n",
       "      <td>0.00639273</td>\n",
       "      <td>[ 1.          0.99307958  0.984375  ]</td>\n",
       "    </tr>\n",
       "    <tr>\n",
       "      <th>3</th>\n",
       "      <td>minmax</td>\n",
       "      <td>SVC</td>\n",
       "      <td>0.990368</td>\n",
       "      <td>0.00202087</td>\n",
       "      <td>{'kernel': 'rbf'}</td>\n",
       "      <td>0.990327</td>\n",
       "      <td>0.00202176</td>\n",
       "      <td>[ 0.98961938  0.99307958  0.98828125]</td>\n",
       "    </tr>\n",
       "  </tbody>\n",
       "</table>\n",
       "</div>"
      ],
      "text/plain": [
       "     scaler classifier grid_roc_auc_mean grid_roc_auc_std  \\\n",
       "0  standard         LR          0.987868        0.0052723   \n",
       "1  standard        SVC          0.984485       0.00386297   \n",
       "2    minmax         LR          0.992647       0.00635158   \n",
       "3    minmax        SVC          0.990368       0.00202087   \n",
       "\n",
       "  grid_roc_auc_best_params eval_roc_auc_mean eval_roc_auc_std  \\\n",
       "0        {'penalty': 'l1'}          0.987723       0.00532019   \n",
       "1       {'kernel': 'poly'}           0.98456       0.00386095   \n",
       "2        {'penalty': 'l1'}          0.992485       0.00639273   \n",
       "3        {'kernel': 'rbf'}          0.990327       0.00202176   \n",
       "\n",
       "                     eval_roc_auc_scores  \n",
       "0  [ 0.99307958  0.98961938  0.98046875]  \n",
       "1  [ 0.97923875  0.98615917  0.98828125]  \n",
       "2  [ 1.          0.99307958  0.984375  ]  \n",
       "3  [ 0.98961938  0.99307958  0.98828125]  "
      ]
     },
     "execution_count": 4,
     "metadata": {},
     "output_type": "execute_result"
    }
   ],
   "source": [
    "pipe.get_results(data=data, scoring=['roc_auc'])"
   ]
  }
 ],
 "metadata": {
  "kernelspec": {
   "display_name": "Python 3",
   "language": "python",
   "name": "python3"
  },
  "language_info": {
   "codemirror_mode": {
    "name": "ipython",
    "version": 3
   },
   "file_extension": ".py",
   "mimetype": "text/x-python",
   "name": "python",
   "nbconvert_exporter": "python",
   "pygments_lexer": "ipython3",
   "version": "3.6.0"
  }
 },
 "nbformat": 4,
 "nbformat_minor": 2
}
