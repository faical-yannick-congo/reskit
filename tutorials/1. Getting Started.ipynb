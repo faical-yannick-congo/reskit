{
 "cells": [
  {
   "cell_type": "markdown",
   "metadata": {},
   "source": [
    "Let's say we want to prepare data and try some scalers and classifiers for prediction in a classification problem. We will tune paramaters of classifiers by grid search technique."
   ]
  },
  {
   "cell_type": "markdown",
   "metadata": {},
   "source": [
    "Data preparing:"
   ]
  },
  {
   "cell_type": "code",
   "execution_count": 1,
   "metadata": {
    "collapsed": true
   },
   "outputs": [],
   "source": [
    "from sklearn.datasets import make_classification\n",
    "\n",
    "\n",
    "X, y = make_classification()"
   ]
  },
  {
   "cell_type": "markdown",
   "metadata": {},
   "source": [
    "Setting steps for our pipelines and parameters for grid search:"
   ]
  },
  {
   "cell_type": "code",
   "execution_count": 2,
   "metadata": {
    "collapsed": true
   },
   "outputs": [],
   "source": [
    "from reskit.core import Pipeliner\n",
    "\n",
    "\n",
    "from sklearn.preprocessing import StandardScaler\n",
    "from sklearn.preprocessing import MinMaxScaler\n",
    "\n",
    "from sklearn.linear_model import LogisticRegression\n",
    "from sklearn.svm import SVC\n",
    "\n",
    "\n",
    "classifiers = [('LR', LogisticRegression()),\n",
    "               ('SVC', SVC())]\n",
    "\n",
    "scalers = [('standard', StandardScaler()),\n",
    "           ('minmax', MinMaxScaler())]\n",
    "\n",
    "steps = [('scaler', scalers),\n",
    "         ('classifier', classifiers)]\n",
    "\n",
    "param_grid = {'LR': {'penalty': ['l1', 'l2']},\n",
    "              'SVC': {'kernel': ['linear', 'poly', 'rbf', 'sigmoid']}}"
   ]
  },
  {
   "cell_type": "markdown",
   "metadata": {},
   "source": [
    "Creating a plan of our research:"
   ]
  },
  {
   "cell_type": "code",
   "execution_count": 3,
   "metadata": {
    "scrolled": true
   },
   "outputs": [
    {
     "data": {
      "text/html": [
       "<div>\n",
       "<table border=\"1\" class=\"dataframe\">\n",
       "  <thead>\n",
       "    <tr style=\"text-align: right;\">\n",
       "      <th></th>\n",
       "      <th>scaler</th>\n",
       "      <th>classifier</th>\n",
       "    </tr>\n",
       "  </thead>\n",
       "  <tbody>\n",
       "    <tr>\n",
       "      <th>0</th>\n",
       "      <td>standard</td>\n",
       "      <td>LR</td>\n",
       "    </tr>\n",
       "    <tr>\n",
       "      <th>1</th>\n",
       "      <td>standard</td>\n",
       "      <td>SVC</td>\n",
       "    </tr>\n",
       "    <tr>\n",
       "      <th>2</th>\n",
       "      <td>minmax</td>\n",
       "      <td>LR</td>\n",
       "    </tr>\n",
       "    <tr>\n",
       "      <th>3</th>\n",
       "      <td>minmax</td>\n",
       "      <td>SVC</td>\n",
       "    </tr>\n",
       "  </tbody>\n",
       "</table>\n",
       "</div>"
      ],
      "text/plain": [
       "     scaler classifier\n",
       "0  standard         LR\n",
       "1  standard        SVC\n",
       "2    minmax         LR\n",
       "3    minmax        SVC"
      ]
     },
     "execution_count": 3,
     "metadata": {},
     "output_type": "execute_result"
    }
   ],
   "source": [
    "pipe = Pipeliner(steps, param_grid=param_grid)\n",
    "pipe.plan_table"
   ]
  },
  {
   "cell_type": "markdown",
   "metadata": {},
   "source": [
    "To tune parameters of models and evaluate this models, run:"
   ]
  },
  {
   "cell_type": "code",
   "execution_count": 4,
   "metadata": {},
   "outputs": [
    {
     "name": "stdout",
     "output_type": "stream",
     "text": [
      "Line: 1/4\n",
      "Line: 2/4\n",
      "Line: 3/4\n",
      "Line: 4/4\n"
     ]
    },
    {
     "data": {
      "text/html": [
       "<div>\n",
       "<table border=\"1\" class=\"dataframe\">\n",
       "  <thead>\n",
       "    <tr style=\"text-align: right;\">\n",
       "      <th></th>\n",
       "      <th>scaler</th>\n",
       "      <th>classifier</th>\n",
       "      <th>grid_roc_auc_mean</th>\n",
       "      <th>grid_roc_auc_std</th>\n",
       "      <th>grid_roc_auc_best_params</th>\n",
       "      <th>eval_roc_auc_mean</th>\n",
       "      <th>eval_roc_auc_std</th>\n",
       "      <th>eval_roc_auc_scores</th>\n",
       "    </tr>\n",
       "  </thead>\n",
       "  <tbody>\n",
       "    <tr>\n",
       "      <th>0</th>\n",
       "      <td>standard</td>\n",
       "      <td>LR</td>\n",
       "      <td>0.931691</td>\n",
       "      <td>0.00865901</td>\n",
       "      <td>{'penalty': 'l1'}</td>\n",
       "      <td>0.931728</td>\n",
       "      <td>0.00857775</td>\n",
       "      <td>[ 0.94117647  0.92041522  0.93359375]</td>\n",
       "    </tr>\n",
       "    <tr>\n",
       "      <th>1</th>\n",
       "      <td>standard</td>\n",
       "      <td>SVC</td>\n",
       "      <td>0.917132</td>\n",
       "      <td>0.015048</td>\n",
       "      <td>{'kernel': 'sigmoid'}</td>\n",
       "      <td>0.916996</td>\n",
       "      <td>0.0149311</td>\n",
       "      <td>[ 0.90311419  0.93771626  0.91015625]</td>\n",
       "    </tr>\n",
       "    <tr>\n",
       "      <th>2</th>\n",
       "      <td>minmax</td>\n",
       "      <td>LR</td>\n",
       "      <td>0.951176</td>\n",
       "      <td>0.0140077</td>\n",
       "      <td>{'penalty': 'l1'}</td>\n",
       "      <td>0.951521</td>\n",
       "      <td>0.0140821</td>\n",
       "      <td>[ 0.93425606  0.95155709  0.96875   ]</td>\n",
       "    </tr>\n",
       "    <tr>\n",
       "      <th>3</th>\n",
       "      <td>minmax</td>\n",
       "      <td>SVC</td>\n",
       "      <td>0.922794</td>\n",
       "      <td>0.0167085</td>\n",
       "      <td>{'kernel': 'rbf'}</td>\n",
       "      <td>0.922317</td>\n",
       "      <td>0.016885</td>\n",
       "      <td>[ 0.93425606  0.93425606  0.8984375 ]</td>\n",
       "    </tr>\n",
       "  </tbody>\n",
       "</table>\n",
       "</div>"
      ],
      "text/plain": [
       "     scaler classifier grid_roc_auc_mean grid_roc_auc_std  \\\n",
       "0  standard         LR          0.931691       0.00865901   \n",
       "1  standard        SVC          0.917132         0.015048   \n",
       "2    minmax         LR          0.951176        0.0140077   \n",
       "3    minmax        SVC          0.922794        0.0167085   \n",
       "\n",
       "  grid_roc_auc_best_params eval_roc_auc_mean eval_roc_auc_std  \\\n",
       "0        {'penalty': 'l1'}          0.931728       0.00857775   \n",
       "1    {'kernel': 'sigmoid'}          0.916996        0.0149311   \n",
       "2        {'penalty': 'l1'}          0.951521        0.0140821   \n",
       "3        {'kernel': 'rbf'}          0.922317         0.016885   \n",
       "\n",
       "                     eval_roc_auc_scores  \n",
       "0  [ 0.94117647  0.92041522  0.93359375]  \n",
       "1  [ 0.90311419  0.93771626  0.91015625]  \n",
       "2  [ 0.93425606  0.95155709  0.96875   ]  \n",
       "3  [ 0.93425606  0.93425606  0.8984375 ]  "
      ]
     },
     "execution_count": 4,
     "metadata": {},
     "output_type": "execute_result"
    }
   ],
   "source": [
    "pipe.get_results(X, y, scoring=['roc_auc'])"
   ]
  }
 ],
 "metadata": {
  "kernelspec": {
   "display_name": "Python 3",
   "language": "python",
   "name": "python3"
  },
  "language_info": {
   "codemirror_mode": {
    "name": "ipython",
    "version": 3
   },
   "file_extension": ".py",
   "mimetype": "text/x-python",
   "name": "python",
   "nbconvert_exporter": "python",
   "pygments_lexer": "ipython3",
   "version": "3.6.0"
  }
 },
 "nbformat": 4,
 "nbformat_minor": 2
}
