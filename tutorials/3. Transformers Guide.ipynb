{
 "cells": [
  {
   "cell_type": "markdown",
   "metadata": {
    "collapsed": true
   },
   "source": [
    "This tutorial helps you to understand how you can transform your data using DataTransformer and MatrixTransformer classes and how to make your own classes for data transformation."
   ]
  },
  {
   "cell_type": "markdown",
   "metadata": {},
   "source": [
    "## 1. MatrixTransformer"
   ]
  },
  {
   "cell_type": "code",
   "execution_count": 1,
   "metadata": {},
   "outputs": [
    {
     "data": {
      "text/plain": [
       "True"
      ]
     },
     "execution_count": 1,
     "metadata": {},
     "output_type": "execute_result"
    }
   ],
   "source": [
    "import numpy as np\n",
    "\n",
    "from reskit.normalizations import mean_norm\n",
    "from reskit.core import MatrixTransformer\n",
    "\n",
    "matrix_0 = np.random.rand(5, 5)\n",
    "matrix_1 = np.random.rand(5, 5)\n",
    "matrix_2 = np.random.rand(5, 5)\n",
    "y = np.array([0, 0, 1])\n",
    "\n",
    "X = np.array([matrix_0,\n",
    "              matrix_1,\n",
    "              matrix_2])\n",
    "\n",
    "output = np.array([mean_norm(matrix_0),\n",
    "                   mean_norm(matrix_1),\n",
    "                   mean_norm(matrix_2)])\n",
    "\n",
    "result = MatrixTransformer(\n",
    "            func=mean_norm).fit_transform(X)\n",
    "\n",
    "(output == result).all()"
   ]
  },
  {
   "cell_type": "markdown",
   "metadata": {},
   "source": [
    "This is a simple example of MatrixTransformer usage. Input X for transformation with MatrixTransformer should be a 3 dimensional array (array of matrices). So, MatrixTransformer just transforms each matrix in X."
   ]
  },
  {
   "cell_type": "markdown",
   "metadata": {},
   "source": [
    "If you have a data with specific data structure it is useful and convenient to write your function for data processing."
   ]
  },
  {
   "cell_type": "markdown",
   "metadata": {},
   "source": [
    "## 2. DataTransformer"
   ]
  },
  {
   "cell_type": "markdown",
   "metadata": {},
   "source": [
    "To simply write new transformers we provide DataTransformer. The main idea is to write functions which takes some X and output transformed X. Thus, you shouldn't write a transformation class for compatibility with sklearn pipelines. So, here is example of DataTransformer usage:"
   ]
  },
  {
   "cell_type": "code",
   "execution_count": 2,
   "metadata": {},
   "outputs": [
    {
     "data": {
      "text/plain": [
       "True"
      ]
     },
     "execution_count": 2,
     "metadata": {},
     "output_type": "execute_result"
    }
   ],
   "source": [
    "from reskit.core import DataTransformer\n",
    "\n",
    "\n",
    "def mean_norm_trans(X):\n",
    "    X = X.copy()\n",
    "    N = len(X)\n",
    "    for i in range(N):\n",
    "        X[i] = mean_norm(X[i])\n",
    "    return X\n",
    "\n",
    "result = DataTransformer(\n",
    "            func=mean_norm_trans).fit_transform(X)\n",
    "\n",
    "(output == result).all()"
   ]
  },
  {
   "cell_type": "markdown",
   "metadata": {},
   "source": [
    "As you can see, we writed the same transformation, but with DataTransformer instead of MatrixTransformer."
   ]
  },
  {
   "cell_type": "markdown",
   "metadata": {},
   "source": [
    "## 3. Your own transformer"
   ]
  },
  {
   "cell_type": "markdown",
   "metadata": {},
   "source": [
    "If you need more flexibility in transformation, you can implement your own transformer. Simplest example:"
   ]
  },
  {
   "cell_type": "code",
   "execution_count": 3,
   "metadata": {
    "collapsed": true
   },
   "outputs": [],
   "source": [
    "from sklearn.base import TransformerMixin\n",
    "from sklearn.base import BaseEstimator\n",
    "\n",
    "class MyTransformer(BaseEstimator, TransformerMixin):\n",
    "    \n",
    "    def __init__(self):\n",
    "        pass\n",
    "    \n",
    "    def fit(self, X, y=None, **fit_params):\n",
    "        #\n",
    "        # Write here the code if transformer need\n",
    "        # to learn anything from data.\n",
    "        #\n",
    "        # Usually nothing should be here, \n",
    "        # just return self.\n",
    "        #\n",
    "        return self\n",
    "    \n",
    "    def transform(self, X):\n",
    "        #\n",
    "        # Write here your transformation\n",
    "        #\n",
    "        return X"
   ]
  }
 ],
 "metadata": {
  "kernelspec": {
   "display_name": "Python 3",
   "language": "python",
   "name": "python3"
  },
  "language_info": {
   "codemirror_mode": {
    "name": "ipython",
    "version": 3
   },
   "file_extension": ".py",
   "mimetype": "text/x-python",
   "name": "python",
   "nbconvert_exporter": "python",
   "pygments_lexer": "ipython3",
   "version": "3.6.0"
  }
 },
 "nbformat": 4,
 "nbformat_minor": 2
}
