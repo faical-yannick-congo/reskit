{
 "cells": [
  {
   "cell_type": "markdown",
   "metadata": {
    "collapsed": true,
    "deletable": true,
    "editable": true
   },
   "source": [
    "This tutorial helps you to understand how you can transform your data using DataTransformer and MatrixTransformer classes and how to make your own classes for data transformation."
   ]
  },
  {
   "cell_type": "markdown",
   "metadata": {
    "deletable": true,
    "editable": true
   },
   "source": [
    "## 1. MatrixTransformer"
   ]
  },
  {
   "cell_type": "code",
   "execution_count": 9,
   "metadata": {
    "collapsed": false,
    "deletable": true,
    "editable": true
   },
   "outputs": [
    {
     "data": {
      "text/plain": [
       "True"
      ]
     },
     "execution_count": 9,
     "metadata": {},
     "output_type": "execute_result"
    }
   ],
   "source": [
    "import numpy as np\n",
    "\n",
    "from reskit.normalizations import mean_norm\n",
    "from reskit.core import MatrixTransformer\n",
    "\n",
    "matrix_0 = np.random.rand(5, 5)\n",
    "matrix_1 = np.random.rand(5, 5)\n",
    "matrix_2 = np.random.rand(5, 5)\n",
    "y = np.array([0, 0, 1])\n",
    "\n",
    "X = np.array([matrix_0,\n",
    "              matrix_1,\n",
    "              matrix_2])\n",
    "\n",
    "output = np.array([mean_norm(matrix_0),\n",
    "                   mean_norm(matrix_1),\n",
    "                   mean_norm(matrix_2)])\n",
    "\n",
    "result = MatrixTransformer(\n",
    "            func=mean_norm).fit_transform(X)\n",
    "\n",
    "(output == result).all()"
   ]
  },
  {
   "cell_type": "markdown",
   "metadata": {
    "deletable": true,
    "editable": true
   },
   "source": [
    "If you have a data with specific data structure it is useful and convenient to write your function for data processing."
   ]
  },
  {
   "cell_type": "markdown",
   "metadata": {},
   "source": [
    "## 2. DataTransformer"
   ]
  },
  {
   "cell_type": "markdown",
   "metadata": {
    "deletable": true,
    "editable": true
   },
   "source": [
    "In some cases, it is useful to store some additional information in X to creation final features set X."
   ]
  },
  {
   "cell_type": "code",
   "execution_count": null,
   "metadata": {
    "collapsed": true
   },
   "outputs": [],
   "source": []
  },
  {
   "cell_type": "markdown",
   "metadata": {
    "deletable": true,
    "editable": true
   },
   "source": [
    "Global and local functions can have their own parameters. To access global function parameters you should write \"global__\" before a needed parameter, as in the instance above. Other parameters you write in DataTransformer input will be referred to local_function parameters."
   ]
  },
  {
   "cell_type": "markdown",
   "metadata": {
    "deletable": true,
    "editable": true
   },
   "source": [
    "## 3. Transformers usage with Pipeliner"
   ]
  },
  {
   "cell_type": "markdown",
   "metadata": {
    "deletable": true,
    "editable": true
   },
   "source": [
    "But if we use X as dictionary we should transform it into an array before usage in usual sklearn machine learning pipelines. Usually, we want to choose just one field from the dictionary and use it as X array, but sometimes we want to collect X array from different fields of the dictionary. In this case, we use collect parameter of DataTransformer. If you put a list of fields from X dictionary to DataTransformer, it stacks horizontally arrays from this fields to one X array. In the following instance, we created bag_of_edges and degrees features for our graphs and stack they for one X array."
   ]
  },
  {
   "cell_type": "code",
   "execution_count": null,
   "metadata": {
    "collapsed": true
   },
   "outputs": [],
   "source": []
  },
  {
   "cell_type": "markdown",
   "metadata": {
    "deletable": true,
    "editable": true
   },
   "source": [
    "## 4. Your own transformer"
   ]
  },
  {
   "cell_type": "markdown",
   "metadata": {
    "deletable": true,
    "editable": true
   },
   "source": [
    "If you need more flexibility in transformation, you can implement your own transformer. Simplest example:"
   ]
  },
  {
   "cell_type": "code",
   "execution_count": 6,
   "metadata": {
    "collapsed": true,
    "deletable": true,
    "editable": true
   },
   "outputs": [],
   "source": [
    "from sklearn.base import TransformerMixin\n",
    "from sklearn.base import BaseEstimator\n",
    "\n",
    "class MyTransformer(BaseEstimator, TransformerMixin):\n",
    "    \n",
    "    def __init__(self):\n",
    "        pass\n",
    "    \n",
    "    def fit(self, X, y=None, **fit_params):\n",
    "        #\n",
    "        # Write here the code if transformer need\n",
    "        # to learn anything from data.\n",
    "        #\n",
    "        # Usually nothing should be here, \n",
    "        # just return self.\n",
    "        #\n",
    "        return self\n",
    "    \n",
    "    def transform(self, X):\n",
    "        #\n",
    "        # Write here your transformation\n",
    "        #\n",
    "        return X"
   ]
  }
 ],
 "metadata": {
  "kernelspec": {
   "display_name": "Python 3",
   "language": "python",
   "name": "python3"
  },
  "language_info": {
   "codemirror_mode": {
    "name": "ipython",
    "version": 3
   },
   "file_extension": ".py",
   "mimetype": "text/x-python",
   "name": "python",
   "nbconvert_exporter": "python",
   "pygments_lexer": "ipython3",
   "version": "3.6.0"
  }
 },
 "nbformat": 4,
 "nbformat_minor": 2
}
