{
 "cells": [
  {
   "cell_type": "markdown",
   "metadata": {
    "collapsed": true
   },
   "source": [
    "This tutorial helps you to understand how you can transform your data using DataTransformer class and how to make your own classes for data transformation."
   ]
  },
  {
   "cell_type": "markdown",
   "metadata": {},
   "source": [
    "## 1. Simple Example"
   ]
  },
  {
   "cell_type": "code",
   "execution_count": 4,
   "metadata": {},
   "outputs": [
    {
     "data": {
      "text/plain": [
       "True"
      ]
     },
     "execution_count": 4,
     "metadata": {},
     "output_type": "execute_result"
    }
   ],
   "source": [
    "import numpy as np\n",
    "\n",
    "\n",
    "from reskit.normalizations import mean_norm\n",
    "from reskit.core import DataTransformer\n",
    "from reskit.core import walker_by_zero_dim\n",
    "\n",
    "matrix_0 = np.random.rand(5, 5)\n",
    "matrix_1 = np.random.rand(5, 5)\n",
    "matrix_2 = np.random.rand(5, 5)\n",
    "y = np.array([0, 0, 1])\n",
    "\n",
    "X = np.array([matrix_0,\n",
    "              matrix_1,\n",
    "              matrix_2])\n",
    "\n",
    "output = np.array([mean_norm(matrix_0),\n",
    "                   mean_norm(matrix_1),\n",
    "                   mean_norm(matrix_2)])\n",
    "\n",
    "result, y = DataTransformer(\n",
    "                global_func=walker_by_zero_dim,\n",
    "                local_func=mean_norm ).fit_transform(X, y)\n",
    "\n",
    "(output == result).all()"
   ]
  },
  {
   "cell_type": "markdown",
   "metadata": {},
   "source": [
    "DataTransformer uses two functions for transformation: global function and local function. A global function helps to define the way a local function will be used to transform data. A local function is a simple transformation of one sample from the data. For example, a local function may be normalisation by mean, as in the instance above."
   ]
  },
  {
   "cell_type": "markdown",
   "metadata": {},
   "source": [
    "We used global function walker_by_zero_dim there. As you can see from the following source code it transforms each matrix in data according to a local function."
   ]
  },
  {
   "cell_type": "code",
   "execution_count": null,
   "metadata": {
    "collapsed": true
   },
   "outputs": [],
   "source": [
    "def walker_by_zero_dim(func, X, **params):\n",
    "\n",
    "    X = X.copy()\n",
    "    new_X = []\n",
    "    for i in range(len(X)):\n",
    "        new_X.append(func(X[i], **params))\n",
    "    return array(new_X)"
   ]
  },
  {
   "cell_type": "markdown",
   "metadata": {},
   "source": [
    "If you have a data with specific data structure it is useful and convenient to write your function for data processing."
   ]
  },
  {
   "cell_type": "markdown",
   "metadata": {},
   "source": [
    "## 2. Use dictionaries for data"
   ]
  },
  {
   "cell_type": "markdown",
   "metadata": {},
   "source": [
    "In some cases, it is useful to store some additional information in X to creation final features set X."
   ]
  },
  {
   "cell_type": "code",
   "execution_count": 15,
   "metadata": {},
   "outputs": [
    {
     "data": {
      "text/plain": [
       "True"
      ]
     },
     "execution_count": 15,
     "metadata": {},
     "output_type": "execute_result"
    }
   ],
   "source": [
    "from reskit.core import walker_by_ids\n",
    "\n",
    "\n",
    "def are_dicts_equal(dict_1, dict_2):\n",
    "\n",
    "    if dict_1.keys() != dict_2.keys():\n",
    "        return False\n",
    "\n",
    "    equal = True\n",
    "    for key in dict_1:\n",
    "        if (dict_1[key] != dict_2[key]).all():\n",
    "            return False\n",
    "\n",
    "    return True\n",
    "\n",
    "X = {'matrices': {'id1': matrix_0,\n",
    "                  'id2': matrix_1,\n",
    "                  'id3': matrix_2}}\n",
    "\n",
    "output = {'matrices': {'id1': mean_norm(matrix_0),\n",
    "                       'id2': mean_norm(matrix_1),\n",
    "                       'id3': mean_norm(matrix_2)}}\n",
    "\n",
    "result, y = DataTransformer(\n",
    "    global_func=walker_by_ids,\n",
    "    global__from_field='matrices',\n",
    "    global__to_field='matrices',\n",
    "    local_func=mean_norm).fit_transform(X, y)\n",
    "\n",
    "are_dicts_equal(output['matrices'], result['matrices'])"
   ]
  },
  {
   "cell_type": "markdown",
   "metadata": {},
   "source": [
    "Global and local functions can have their own parameters. To access global function parameters you should write \"global__\" before a needed parameter, as in the instance above. Other parameters you write in DataTransformer input will be referred to local_function parameters."
   ]
  },
  {
   "cell_type": "markdown",
   "metadata": {},
   "source": [
    "## 3. Transform a data dictionary to an usual array"
   ]
  },
  {
   "cell_type": "markdown",
   "metadata": {},
   "source": [
    "But if we use X as dictionary we should transform it into an array before usage in usual sklearn machine learning pipelines. Usually, we want to choose just one field from the dictionary and use it as X array, but sometimes we want to collect X array from different fields of the dictionary. In this case, we use collect parameter of DataTransformer. If you put a list of fields from X dictionary to DataTransformer, it stacks horizontally arrays from this fields to one X array. In the following instance, we created bag_of_edges and degrees features for our graphs and stack they for one X array."
   ]
  },
  {
   "cell_type": "code",
   "execution_count": 29,
   "metadata": {
    "scrolled": true
   },
   "outputs": [
    {
     "data": {
      "text/plain": [
       "True"
      ]
     },
     "execution_count": 29,
     "metadata": {},
     "output_type": "execute_result"
    }
   ],
   "source": [
    "from reskit.features import bag_of_edges\n",
    "from reskit.features import degrees\n",
    "\n",
    "\n",
    "degrees_features = np.array(\n",
    "    [degrees(X['matrices']['id1']),\n",
    "     degrees(X['matrices']['id2']),\n",
    "     degrees(X['matrices']['id3'])])\n",
    "\n",
    "bag_of_edges_features = np.array(\n",
    "    [bag_of_edges(X['matrices']['id1']),\n",
    "     bag_of_edges(X['matrices']['id2']),\n",
    "     bag_of_edges(X['matrices']['id3'])])\n",
    "\n",
    "output_X = np.hstack((degrees_features, bag_of_edges_features))\n",
    "\n",
    "temp_X, temp_y = DataTransformer(\n",
    "    global_func=walker_by_ids,\n",
    "    global__from_field='matrices',\n",
    "    global__to_field='degrees',\n",
    "    local_func=degrees).fit_transform(X, y)\n",
    "\n",
    "result_X, result_y = DataTransformer(\n",
    "    global_func=walker_by_ids,\n",
    "    global__from_field='matrices',\n",
    "    global__to_field='bag_of_edges',\n",
    "    global__collect=['degrees', 'bag_of_edges'],\n",
    "    local_func=bag_of_edges).fit_transform(temp_X, temp_y)\n",
    "\n",
    "(result_X == output_X).all()"
   ]
  },
  {
   "cell_type": "markdown",
   "metadata": {},
   "source": [
    "## 4. Your own transformer"
   ]
  },
  {
   "cell_type": "markdown",
   "metadata": {},
   "source": [
    "If you need more flexibility in transformation, you can implement your own transformer. Simplest example:"
   ]
  },
  {
   "cell_type": "code",
   "execution_count": 1,
   "metadata": {
    "collapsed": true
   },
   "outputs": [],
   "source": [
    "from sklearn.base import TransformerMixin\n",
    "from sklearn.base import BaseEstimator\n",
    "\n",
    "class MyTransformer(BaseEstimator, TransformerMixin):\n",
    "    \n",
    "    def __init__(self):\n",
    "        pass\n",
    "    \n",
    "    def fit(self, X, y=None, **fit_params):\n",
    "        #\n",
    "        # Write here the code if transformer need\n",
    "        # to learn anything from data.\n",
    "        #\n",
    "        # Usually nothing should be here, \n",
    "        # just return self.\n",
    "        #\n",
    "        return self\n",
    "    \n",
    "    def transform(self, X):\n",
    "        #\n",
    "        # Write here your transformation\n",
    "        #\n",
    "        return X"
   ]
  }
 ],
 "metadata": {
  "kernelspec": {
   "display_name": "Python 3",
   "language": "python",
   "name": "python3"
  },
  "language_info": {
   "codemirror_mode": {
    "name": "ipython",
    "version": 3
   },
   "file_extension": ".py",
   "mimetype": "text/x-python",
   "name": "python",
   "nbconvert_exporter": "python",
   "pygments_lexer": "ipython3",
   "version": "3.6.0"
  }
 },
 "nbformat": 4,
 "nbformat_minor": 2
}
