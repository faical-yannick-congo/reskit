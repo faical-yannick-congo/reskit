{
 "cells": [
  {
   "cell_type": "markdown",
   "metadata": {},
   "source": [
    "This tutorial helps you to understand how you can transform your data using Transformer class and how to make your own class for data transformation."
   ]
  },
  {
   "cell_type": "markdown",
   "metadata": {
    "deletable": true,
    "editable": true
   },
   "source": [
    "## 1. Data Format for Pipelines"
   ]
  },
  {
   "cell_type": "markdown",
   "metadata": {
    "collapsed": true,
    "deletable": true,
    "editable": true
   },
   "source": [
    "To use your data in Reskit, you should transform it to a dictionary with fields X and y. Here, we use a scikit-learn function for making classification problem."
   ]
  },
  {
   "cell_type": "code",
   "execution_count": 1,
   "metadata": {
    "collapsed": true,
    "deletable": true,
    "editable": true
   },
   "outputs": [],
   "source": [
    "from sklearn.datasets import make_classification\n",
    "\n",
    "\n",
    "X, y = make_classification()\n",
    "data = {'X': X, 'y': y}"
   ]
  },
  {
   "cell_type": "markdown",
   "metadata": {
    "deletable": true,
    "editable": true
   },
   "source": [
    "## 2. Function Usage in Pipelines Through Transformer"
   ]
  },
  {
   "cell_type": "markdown",
   "metadata": {},
   "source": [
    "Let say we want to scale our data with zero mean and unit variance. We have function which can do it. "
   ]
  },
  {
   "cell_type": "code",
   "execution_count": 4,
   "metadata": {
    "collapsed": false,
    "scrolled": true
   },
   "outputs": [
    {
     "name": "stdout",
     "output_type": "stream",
     "text": [
      "Means of columns:  [ 0.0895726   0.02239302 -0.01146629 -0.06274079 -0.00419747  0.0623276\n",
      " -0.15522739  0.15054792 -0.06350153  0.16210763  0.06918616  0.07071597\n",
      "  0.05752406  0.0592492   0.17829296 -0.0224572  -0.0471177   0.14207094\n",
      " -0.08877845  0.06817185] \n",
      "\n",
      "Stds of columns:  [ 1.21537283  0.37932576  0.9745023   1.03091299  1.09148538  1.2685434\n",
      "  0.81497409  1.07653402  1.11846887  0.91349843  0.9596036   0.9126007\n",
      "  1.19550076  1.0238642   0.889447    0.88625815  0.9614719   0.99481902\n",
      "  1.12363487  0.93610273]\n"
     ]
    }
   ],
   "source": [
    "print('Means of columns: ', data['X'].mean(axis=0), '\\n')\n",
    "print('Stds of columns: ', data['X'].std(axis=0))"
   ]
  },
  {
   "cell_type": "code",
   "execution_count": 15,
   "metadata": {
    "collapsed": false
   },
   "outputs": [
    {
     "name": "stdout",
     "output_type": "stream",
     "text": [
      "Means of columns:  [-0.  0.  0. -0. -0.  0.  0. -0.  0.  0.  0.  0.  0. -0. -0. -0. -0.  0.\n",
      "  0.  0.] \n",
      "\n",
      "Stds of columns:  [ 1.  1.  1.  1.  1.  1.  1.  1.  1.  1.  1.  1.  1.  1.  1.  1.  1.  1.\n",
      "  1.  1.]\n"
     ]
    }
   ],
   "source": [
    "from sklearn.preprocessing import scale\n",
    "import numpy as np\n",
    "\n",
    "def check_mean_and_std_of_columns(X):\n",
    "    \"\"\" Calculates mean and std for columns of matrix. \"\"\"\n",
    "    means = np.round(X.mean(axis=0), 15)\n",
    "    stds = np.round(X.std(axis=0), 15)\n",
    "\n",
    "    print('Means of columns: ', means, '\\n')\n",
    "    print('Stds of columns: ', stds)\n",
    "    \n",
    "scaled_X = scale(data['X'])\n",
    "check_mean_and_std_of_columns(scaled_X)"
   ]
  },
  {
   "cell_type": "markdown",
   "metadata": {},
   "source": [
    "And we want to use it in pipelines. Then you should rewrite you function."
   ]
  },
  {
   "cell_type": "code",
   "execution_count": 16,
   "metadata": {
    "collapsed": true
   },
   "outputs": [],
   "source": [
    "def my_function(data):\n",
    "    data['X'] = scale(data['X'])\n",
    "    return data"
   ]
  },
  {
   "cell_type": "markdown",
   "metadata": {},
   "source": [
    "Let's check the result."
   ]
  },
  {
   "cell_type": "code",
   "execution_count": 17,
   "metadata": {
    "collapsed": false
   },
   "outputs": [
    {
     "name": "stdout",
     "output_type": "stream",
     "text": [
      "Means of columns:  [-0. -0.  0. -0. -0. -0.  0. -0. -0.  0. -0.  0.  0. -0. -0. -0. -0.  0.\n",
      "  0.  0.] \n",
      "\n",
      "Stds of columns:  [ 1.  1.  1.  1.  1.  1.  1.  1.  1.  1.  1.  1.  1.  1.  1.  1.  1.  1.\n",
      "  1.  1.]\n"
     ]
    }
   ],
   "source": [
    "from reskit.core import Transformer\n",
    "\n",
    "\n",
    "transformer = Transformer(func=my_function)\n",
    "scaled_data = transformer.fit_transform(data)\n",
    "\n",
    "scaled_X = scale(scaled_data['X'])\n",
    "check_mean_and_std_of_columns(scaled_X)"
   ]
  },
  {
   "cell_type": "markdown",
   "metadata": {},
   "source": [
    "Finally, let's try it to use in pipeline."
   ]
  },
  {
   "cell_type": "code",
   "execution_count": 18,
   "metadata": {
    "collapsed": false
   },
   "outputs": [
    {
     "name": "stdout",
     "output_type": "stream",
     "text": [
      "Means of columns:  [-0. -0.  0. -0. -0. -0.  0. -0. -0.  0. -0.  0.  0. -0. -0. -0. -0.  0.\n",
      "  0.  0.] \n",
      "\n",
      "Stds of columns:  [ 1.  1.  1.  1.  1.  1.  1.  1.  1.  1.  1.  1.  1.  1.  1.  1.  1.  1.\n",
      "  1.  1.]\n"
     ]
    }
   ],
   "source": [
    "from sklearn.pipeline import Pipeline\n",
    "\n",
    "pipeline = Pipeline([('scaler', Transformer(func=my_function))])\n",
    "scaled_data = pipeline.fit_transform(data)\n",
    "\n",
    "scaled_X = scale(scaled_data['X'])\n",
    "check_mean_and_std_of_columns(scaled_X)"
   ]
  },
  {
   "cell_type": "markdown",
   "metadata": {},
   "source": [
    "Thus, you can write simple functions which takes and returns a dictionary with fixed structure."
   ]
  },
  {
   "cell_type": "markdown",
   "metadata": {
    "deletable": true,
    "editable": true
   },
   "source": [
    "## 3. Transformation Data to X, y form"
   ]
  },
  {
   "cell_type": "markdown",
   "metadata": {},
   "source": [
    "One of restriction of scikit-learn pipeline is that it cannot change y in through transformations. Using dictionary can solve this problem, but scikit-learn classifiers and some transformers can take a data only in (X, y) form. So you should define when Transformer class should change this form to (X, y)."
   ]
  },
  {
   "cell_type": "code",
   "execution_count": 28,
   "metadata": {
    "collapsed": false,
    "deletable": true,
    "editable": true
   },
   "outputs": [
    {
     "name": "stdout",
     "output_type": "stream",
     "text": [
      "Means of columns:  [-0.  0.  0. -0. -0.  0.  0. -0.  0.  0.  0.  0.  0. -0. -0. -0. -0.  0.\n",
      "  0.  0.] \n",
      "\n",
      "Stds of columns:  [ 1.  1.  1.  1.  1.  1.  1.  1.  1.  1.  1.  1.  1.  1.  1.  1.  1.  1.\n",
      "  1.  1.]\n"
     ]
    }
   ],
   "source": [
    "transformer = Transformer(func=my_function, collect='X')\n",
    "X, y = transformer.fit_transform(data)\n",
    "check_mean_and_std_of_columns(X)"
   ]
  },
  {
   "cell_type": "markdown",
   "metadata": {
    "deletable": true,
    "editable": true
   },
   "source": [
    "## 4. Your own transformer"
   ]
  },
  {
   "cell_type": "markdown",
   "metadata": {},
   "source": [
    "If you need more flexibility in transformation, you can implement your own transformer. Simplest example:"
   ]
  },
  {
   "cell_type": "code",
   "execution_count": 1,
   "metadata": {
    "collapsed": true,
    "deletable": true,
    "editable": true
   },
   "outputs": [],
   "source": [
    "from sklearn.base import TransformerMixin\n",
    "from sklearn.base import BaseEstimator\n",
    "\n",
    "class MyTransformer(BaseEstimator, TransformerMixin):\n",
    "    def __init__(self):\n",
    "        pass\n",
    "    \n",
    "    def fit(self, X, y=None, **fit_params):\n",
    "        #\n",
    "        # Write here the code if transformer need\n",
    "        # to learn anything from data.\n",
    "        #\n",
    "        # Usually nothing should be here, \n",
    "        # just return self.\n",
    "        #\n",
    "        return self\n",
    "    \n",
    "    def transform(self, X):\n",
    "        #\n",
    "        # Write here your transformation\n",
    "        #\n",
    "        return X"
   ]
  }
 ],
 "metadata": {
  "kernelspec": {
   "display_name": "Python 3",
   "language": "python",
   "name": "python3"
  },
  "language_info": {
   "codemirror_mode": {
    "name": "ipython",
    "version": 3
   },
   "file_extension": ".py",
   "mimetype": "text/x-python",
   "name": "python",
   "nbconvert_exporter": "python",
   "pygments_lexer": "ipython3",
   "version": "3.6.0"
  }
 },
 "nbformat": 4,
 "nbformat_minor": 2
}
