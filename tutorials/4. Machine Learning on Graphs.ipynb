{
 "cells": [
  {
   "cell_type": "markdown",
   "metadata": {
    "deletable": true,
    "editable": true
   },
   "source": [
    "We already used some graph metrics in the previous tutorial. There we will cover graphs metrics and features in details. Also, we will cover Brain Connectivity Toolbox usage."
   ]
  },
  {
   "cell_type": "markdown",
   "metadata": {
    "deletable": true,
    "editable": true
   },
   "source": [
    "## 1. Realworld dataset"
   ]
  },
  {
   "cell_type": "markdown",
   "metadata": {
    "deletable": true,
    "editable": true
   },
   "source": [
    "Here we use UCLA autism dataset publicly available at the UCLA Multimodal Connectivity Database. Data includes DTI-based connectivity matrices of 51 high-functioning ASD subjects (6 females) and 43 TD subjects (7 females)."
   ]
  },
  {
   "cell_type": "code",
   "execution_count": 1,
   "metadata": {
    "collapsed": true,
    "deletable": true,
    "editable": true
   },
   "outputs": [],
   "source": [
    "from reskit.datasets import load_UCLA_data\n",
    "\n",
    "\n",
    "X, y = load_UCLA_data()\n",
    "X = X['matrices']"
   ]
  },
  {
   "cell_type": "markdown",
   "metadata": {
    "collapsed": true,
    "deletable": true,
    "editable": true
   },
   "source": [
    "## 2. Normalizations and Graph Metrics"
   ]
  },
  {
   "cell_type": "markdown",
   "metadata": {
    "deletable": true,
    "editable": true
   },
   "source": [
    "We can normalize and build some metrics."
   ]
  },
  {
   "cell_type": "code",
   "execution_count": 2,
   "metadata": {
    "collapsed": true,
    "deletable": true,
    "editable": true
   },
   "outputs": [],
   "source": [
    "from reskit.normalizations import mean_norm\n",
    "from reskit.features import bag_of_edges\n",
    "from reskit.core import MatrixTransformerf\n",
    "\n",
    "\n",
    "normalized_X = MatrixTransformer(\n",
    "    func=mean_norm).fit_transform(X)\n",
    "\n",
    "featured_X = MatrixTransformer(\n",
    "    func=bag_of_edges).fit_transform(normalized_X)"
   ]
  },
  {
   "cell_type": "markdown",
   "metadata": {
    "deletable": true,
    "editable": true
   },
   "source": [
    "## 4. Brain Connectivity Toolbox"
   ]
  },
  {
   "cell_type": "markdown",
   "metadata": {
    "deletable": true,
    "editable": true
   },
   "source": [
    "We provide some basic graph metrics in Reskit. To access most state of the art graph metrics you can use Brain Connectivity Toolbox. You should install it via pip:"
   ]
  },
  {
   "cell_type": "raw",
   "metadata": {
    "deletable": true,
    "editable": true
   },
   "source": [
    "sudo pip install bctpy"
   ]
  },
  {
   "cell_type": "markdown",
   "metadata": {
    "deletable": true,
    "editable": true
   },
   "source": [
    "Let's calculate pagerank centrality of a random graph using BCT python library."
   ]
  },
  {
   "cell_type": "code",
   "execution_count": 3,
   "metadata": {
    "collapsed": false,
    "deletable": true,
    "editable": true
   },
   "outputs": [
    {
     "data": {
      "text/plain": [
       "array([ 0.49519608,  0.35932666,  0.14547726])"
      ]
     },
     "execution_count": 3,
     "metadata": {},
     "output_type": "execute_result"
    }
   ],
   "source": [
    "from bct.algorithms.centrality import pagerank_centrality\n",
    "import numpy as np\n",
    "\n",
    "\n",
    "pagerank_centrality(np.random.rand(3,3), d=0.85)"
   ]
  },
  {
   "cell_type": "markdown",
   "metadata": {
    "deletable": true,
    "editable": true
   },
   "source": [
    "Now we calculates this metric for UCLA dataset. d is the pagerank_centrality parameter, called damping factor (see bctpy documentation for more info). "
   ]
  },
  {
   "cell_type": "code",
   "execution_count": 4,
   "metadata": {
    "collapsed": true,
    "deletable": true,
    "editable": true
   },
   "outputs": [],
   "source": [
    "featured_X = MatrixTransformer(\n",
    "    d=0.85,\n",
    "    func=pagerank_centrality).fit_transform(X)"
   ]
  },
  {
   "cell_type": "markdown",
   "metadata": {
    "deletable": true,
    "editable": true
   },
   "source": [
    "If we want to try pagerank_centrality and degrees for SVM and LogisticRegression classfiers."
   ]
  },
  {
   "cell_type": "code",
   "execution_count": 5,
   "metadata": {
    "collapsed": false,
    "deletable": true,
    "editable": true
   },
   "outputs": [
    {
     "data": {
      "text/html": [
       "<div>\n",
       "<table border=\"1\" class=\"dataframe\">\n",
       "  <thead>\n",
       "    <tr style=\"text-align: right;\">\n",
       "      <th></th>\n",
       "      <th>featurizer</th>\n",
       "      <th>classifier</th>\n",
       "    </tr>\n",
       "  </thead>\n",
       "  <tbody>\n",
       "    <tr>\n",
       "      <th>0</th>\n",
       "      <td>pagerank</td>\n",
       "      <td>LR</td>\n",
       "    </tr>\n",
       "    <tr>\n",
       "      <th>1</th>\n",
       "      <td>pagerank</td>\n",
       "      <td>SVC</td>\n",
       "    </tr>\n",
       "    <tr>\n",
       "      <th>2</th>\n",
       "      <td>degrees</td>\n",
       "      <td>LR</td>\n",
       "    </tr>\n",
       "    <tr>\n",
       "      <th>3</th>\n",
       "      <td>degrees</td>\n",
       "      <td>SVC</td>\n",
       "    </tr>\n",
       "  </tbody>\n",
       "</table>\n",
       "</div>"
      ],
      "text/plain": [
       "  featurizer classifier\n",
       "0   pagerank         LR\n",
       "1   pagerank        SVC\n",
       "2    degrees         LR\n",
       "3    degrees        SVC"
      ]
     },
     "execution_count": 5,
     "metadata": {},
     "output_type": "execute_result"
    }
   ],
   "source": [
    "from bct.algorithms.degree import degrees_und\n",
    "\n",
    "from sklearn.linear_model import LogisticRegression\n",
    "from sklearn.svm import SVC\n",
    "\n",
    "from reskit.core import Pipeliner\n",
    "\n",
    "# Feature extraction step variants (1st step)\n",
    "featurizers = [('pagerank', MatrixTransformer(    \n",
    "                                d=0.85,\n",
    "                                func=pagerank_centrality)),\n",
    "               ('degrees', MatrixTransformer(\n",
    "                                func=degrees_und))]\n",
    "\n",
    "# Models (3rd step)\n",
    "classifiers = [('LR', LogisticRegression()),\n",
    "               ('SVC', SVC())]\n",
    "\n",
    "# Reskit needs to define steps in this manner\n",
    "steps = [('featurizer', featurizers),\n",
    "         ('classifier', classifiers)]\n",
    "\n",
    "# Grid search parameters for our models\n",
    "param_grid = {'LR': {'penalty': ['l1', 'l2']},\n",
    "              'SVC': {'kernel': ['linear', 'poly', 'rbf', 'sigmoid']}}\n",
    "\n",
    "# Quality metric that we want to optimize\n",
    "scoring='roc_auc'\n",
    "\n",
    "pipe = Pipeliner(steps, param_grid=param_grid)\n",
    "pipe.plan_table"
   ]
  },
  {
   "cell_type": "code",
   "execution_count": 6,
   "metadata": {
    "collapsed": false,
    "deletable": true,
    "editable": true
   },
   "outputs": [
    {
     "name": "stdout",
     "output_type": "stream",
     "text": [
      "Line: 1/4\n",
      "Line: 2/4\n",
      "Line: 3/4\n",
      "Line: 4/4\n"
     ]
    },
    {
     "data": {
      "text/html": [
       "<div>\n",
       "<table border=\"1\" class=\"dataframe\">\n",
       "  <thead>\n",
       "    <tr style=\"text-align: right;\">\n",
       "      <th></th>\n",
       "      <th>featurizer</th>\n",
       "      <th>classifier</th>\n",
       "      <th>grid_roc_auc_mean</th>\n",
       "      <th>grid_roc_auc_std</th>\n",
       "      <th>grid_roc_auc_best_params</th>\n",
       "      <th>eval_roc_auc_mean</th>\n",
       "      <th>eval_roc_auc_std</th>\n",
       "      <th>eval_roc_auc_scores</th>\n",
       "    </tr>\n",
       "  </thead>\n",
       "  <tbody>\n",
       "    <tr>\n",
       "      <th>0</th>\n",
       "      <td>pagerank</td>\n",
       "      <td>LR</td>\n",
       "      <td>0.5</td>\n",
       "      <td>0</td>\n",
       "      <td>{'penalty': 'l1'}</td>\n",
       "      <td>0.5</td>\n",
       "      <td>0</td>\n",
       "      <td>[ 0.5  0.5  0.5]</td>\n",
       "    </tr>\n",
       "    <tr>\n",
       "      <th>1</th>\n",
       "      <td>pagerank</td>\n",
       "      <td>SVC</td>\n",
       "      <td>0.523565</td>\n",
       "      <td>0.049125</td>\n",
       "      <td>{'kernel': 'rbf'}</td>\n",
       "      <td>0.523249</td>\n",
       "      <td>0.0492934</td>\n",
       "      <td>[ 0.55294118  0.56302521  0.45378151]</td>\n",
       "    </tr>\n",
       "    <tr>\n",
       "      <th>2</th>\n",
       "      <td>degrees</td>\n",
       "      <td>LR</td>\n",
       "      <td>0.5346</td>\n",
       "      <td>0.0167932</td>\n",
       "      <td>{'penalty': 'l2'}</td>\n",
       "      <td>0.53436</td>\n",
       "      <td>0.016723</td>\n",
       "      <td>[ 0.55686275  0.51680672  0.52941176]</td>\n",
       "    </tr>\n",
       "    <tr>\n",
       "      <th>3</th>\n",
       "      <td>degrees</td>\n",
       "      <td>SVC</td>\n",
       "      <td>0.552512</td>\n",
       "      <td>0.00940143</td>\n",
       "      <td>{'kernel': 'poly'}</td>\n",
       "      <td>0.552381</td>\n",
       "      <td>0.00936597</td>\n",
       "      <td>[ 0.56470588  0.55042017  0.54201681]</td>\n",
       "    </tr>\n",
       "  </tbody>\n",
       "</table>\n",
       "</div>"
      ],
      "text/plain": [
       "  featurizer classifier grid_roc_auc_mean grid_roc_auc_std  \\\n",
       "0   pagerank         LR               0.5                0   \n",
       "1   pagerank        SVC          0.523565         0.049125   \n",
       "2    degrees         LR            0.5346        0.0167932   \n",
       "3    degrees        SVC          0.552512       0.00940143   \n",
       "\n",
       "  grid_roc_auc_best_params eval_roc_auc_mean eval_roc_auc_std  \\\n",
       "0        {'penalty': 'l1'}               0.5                0   \n",
       "1        {'kernel': 'rbf'}          0.523249        0.0492934   \n",
       "2        {'penalty': 'l2'}           0.53436         0.016723   \n",
       "3       {'kernel': 'poly'}          0.552381       0.00936597   \n",
       "\n",
       "                     eval_roc_auc_scores  \n",
       "0                       [ 0.5  0.5  0.5]  \n",
       "1  [ 0.55294118  0.56302521  0.45378151]  \n",
       "2  [ 0.55686275  0.51680672  0.52941176]  \n",
       "3  [ 0.56470588  0.55042017  0.54201681]  "
      ]
     },
     "execution_count": 6,
     "metadata": {},
     "output_type": "execute_result"
    }
   ],
   "source": [
    "pipe.get_results(X, y, scoring=scoring, caching_steps=['featurizer'])"
   ]
  },
  {
   "cell_type": "markdown",
   "metadata": {
    "deletable": true,
    "editable": true
   },
   "source": [
    "This is the main things about maching learning on graphs. Now you can try big amount of normalizations features and classifiers for graphs classifcation. In case you need something specific you can implement temporary pipeline step to fiegure out the influence of this step on the result."
   ]
  }
 ],
 "metadata": {
  "kernelspec": {
   "display_name": "Python 3",
   "language": "python",
   "name": "python3"
  },
  "language_info": {
   "codemirror_mode": {
    "name": "ipython",
    "version": 3
   },
   "file_extension": ".py",
   "mimetype": "text/x-python",
   "name": "python",
   "nbconvert_exporter": "python",
   "pygments_lexer": "ipython3",
   "version": "3.6.0"
  }
 },
 "nbformat": 4,
 "nbformat_minor": 2
}
